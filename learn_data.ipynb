{
 "cells": [
  {
   "cell_type": "code",
   "execution_count": 1,
   "metadata": {},
   "outputs": [],
   "source": [
    "from os import chdir, listdir\n",
    "from warnings import simplefilter\n",
    "from xarray import open_dataset\n",
    "simplefilter(\"ignore\")"
   ]
  },
  {
   "cell_type": "code",
   "execution_count": 2,
   "metadata": {},
   "outputs": [],
   "source": [
    "chdir('/home/zhangc/cesm2_cmip6/nc_data/')"
   ]
  },
  {
   "cell_type": "code",
   "execution_count": 8,
   "metadata": {},
   "outputs": [
    {
     "data": {
      "text/plain": [
       "['hus_6hrLev_CESM2_ssp245_r2i1p1f1_gn_201501010000-202412311800.nc',\n",
       " 'ta_6hrLev_CESM2_ssp245_r2i1p1f1_gn_201501010000-202412311800.nc',\n",
       " 'ts_Amon_CESM2_ssp245_r2i1p1f1_gn_201501-206412.nc',\n",
       " 'ua_6hrLev_CESM2_ssp245_r2i1p1f1_gn_201501010000-202412311800.nc',\n",
       " 'va_6hrLev_CESM2_ssp245_r2i1p1f1_gn_201501010000-202412311800.nc',\n",
       " 'fracdata_0.9x1.25_gx1v6_c090317.nc',\n",
       " 'USGS-gtopo30_0.9x1.25_remap_c051027.nc',\n",
       " 'tos_Oday_CESM2_ssp245_r2i1p1f1_gn_20150102-20650101.nc',\n",
       " 'siconc_SIday_CESM2_ssp245_r2i1p1f1_gn_20150102-20650101.nc',\n",
       " 'soil_mon_ERA5_2015.nc',\n",
       " 'hus_6hrLev_CESM2_historical_r11i1p1f1_gn_201001010000-201501010000.nc',\n",
       " 'ua_6hrLev_CESM2_historical_r11i1p1f1_gn_201001010000-201501010000.nc',\n",
       " 'ta_6hrLev_CESM2_historical_r11i1p1f1_gn_201001010000-201501010000.nc',\n",
       " 'va_6hrLev_CESM2_historical_r11i1p1f1_gn_201001010000-201501010000.nc',\n",
       " 'tos_Oday_CESM2_historical_r11i1p1f1_gn_20000102-20150101.nc',\n",
       " 'siconc_SIday_CESM2_historical_r11i1p1f1_gn_20000102-20150101.nc',\n",
       " 'ts_Amon_CESM2_historical_r11i1p1f1_gn_200001-201412.nc']"
      ]
     },
     "execution_count": 8,
     "metadata": {},
     "output_type": "execute_result"
    }
   ],
   "source": [
    "listdir()"
   ]
  },
  {
   "cell_type": "code",
   "execution_count": null,
   "metadata": {},
   "outputs": [],
   "source": [
    "ds = open_dataset(nc)\n",
    "#.isel(time=0).sortby('lev')"
   ]
  }
 ],
 "metadata": {
  "kernelspec": {
   "display_name": "Python 3",
   "language": "python",
   "name": "python3"
  },
  "language_info": {
   "codemirror_mode": {
    "name": "ipython",
    "version": 3
   },
   "file_extension": ".py",
   "mimetype": "text/x-python",
   "name": "python",
   "nbconvert_exporter": "python",
   "pygments_lexer": "ipython3",
   "version": "3.7.6"
  }
 },
 "nbformat": 4,
 "nbformat_minor": 4
}
