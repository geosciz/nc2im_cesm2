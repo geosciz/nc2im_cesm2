{
 "cells": [
  {
   "cell_type": "code",
   "execution_count": 18,
   "metadata": {},
   "outputs": [],
   "source": [
    "from xarray import open_dataset\n",
    "from matplotlib import pyplot as plt\n",
    "from os import chdir"
   ]
  },
  {
   "cell_type": "code",
   "execution_count": 28,
   "metadata": {},
   "outputs": [],
   "source": [
    "chdir('/home/zhangc/repositories/cesm2_to_int/')"
   ]
  },
  {
   "cell_type": "code",
   "execution_count": 32,
   "metadata": {},
   "outputs": [],
   "source": [
    "ds = open_dataset('fracdata_0.9x1.25_gx1v6_c090317.nc')"
   ]
  },
  {
   "cell_type": "code",
   "execution_count": 33,
   "metadata": {},
   "outputs": [
    {
     "data": {
      "text/html": [
       "<pre>&lt;xarray.Dataset&gt;\n",
       "Dimensions:   (lsmlat: 192, lsmlon: 288)\n",
       "Dimensions without coordinates: lsmlat, lsmlon\n",
       "Data variables:\n",
       "    NUMLON    (lsmlat) int32 ...\n",
       "    LONGXY    (lsmlat, lsmlon) float64 ...\n",
       "    LATIXY    (lsmlat, lsmlon) float64 ...\n",
       "    LANDMASK  (lsmlat, lsmlon) int32 ...\n",
       "    LANDFRAC  (lsmlat, lsmlon) float64 ...\n",
       "Attributes:\n",
       "    Conventions:  NCAR-CSM\n",
       "    History_Log:  created on: 03-17-09 11:55:26\n",
       "    Logname:      erik\n",
       "    Host:         be1005en.ucar.edu\n",
       "    fcamfile:     \n",
       "    fccsmdom:     /fs/cgd/csm/inputdata/atm/datm7/domain.lnd.fv0.9x1.25_gx1v6...\n",
       "    fcamtopo:     \n",
       "    fclmgrid:     /fs/cgd/csm/inputdata/lnd/clm2/griddata/griddata_0.9x1.25_0...\n",
       "    fnavyoro:     \n",
       "    frawtopo:     \n",
       "    File_used:    /fs/cgd/csm/inputdata/atm/datm7/domain.lnd.fv0.9x1.25_gx1v6...\n",
       "    Source:       Community Land Model: CLM3\n",
       "    Version:      $HeadURL: https://svn-ccsm-models.cgd.ucar.edu/clm2/trunk_t...\n",
       "    Revision_Id:  $Id: creategridMod.F90 14229 2009-02-06 05:53:55Z erik $</pre>"
      ],
      "text/plain": [
       "<xarray.Dataset>\n",
       "Dimensions:   (lsmlat: 192, lsmlon: 288)\n",
       "Dimensions without coordinates: lsmlat, lsmlon\n",
       "Data variables:\n",
       "    NUMLON    (lsmlat) int32 ...\n",
       "    LONGXY    (lsmlat, lsmlon) float64 ...\n",
       "    LATIXY    (lsmlat, lsmlon) float64 ...\n",
       "    LANDMASK  (lsmlat, lsmlon) int32 ...\n",
       "    LANDFRAC  (lsmlat, lsmlon) float64 ...\n",
       "Attributes:\n",
       "    Conventions:  NCAR-CSM\n",
       "    History_Log:  created on: 03-17-09 11:55:26\n",
       "    Logname:      erik\n",
       "    Host:         be1005en.ucar.edu\n",
       "    fcamfile:     \n",
       "    fccsmdom:     /fs/cgd/csm/inputdata/atm/datm7/domain.lnd.fv0.9x1.25_gx1v6...\n",
       "    fcamtopo:     \n",
       "    fclmgrid:     /fs/cgd/csm/inputdata/lnd/clm2/griddata/griddata_0.9x1.25_0...\n",
       "    fnavyoro:     \n",
       "    frawtopo:     \n",
       "    File_used:    /fs/cgd/csm/inputdata/atm/datm7/domain.lnd.fv0.9x1.25_gx1v6...\n",
       "    Source:       Community Land Model: CLM3\n",
       "    Version:      $HeadURL: https://svn-ccsm-models.cgd.ucar.edu/clm2/trunk_t...\n",
       "    Revision_Id:  $Id: creategridMod.F90 14229 2009-02-06 05:53:55Z erik $"
      ]
     },
     "execution_count": 33,
     "metadata": {},
     "output_type": "execute_result"
    }
   ],
   "source": [
    "ds"
   ]
  }
 ],
 "metadata": {
  "kernelspec": {
   "display_name": "Python 3",
   "language": "python",
   "name": "python3"
  },
  "language_info": {
   "codemirror_mode": {
    "name": "ipython",
    "version": 3
   },
   "file_extension": ".py",
   "mimetype": "text/x-python",
   "name": "python",
   "nbconvert_exporter": "python",
   "pygments_lexer": "ipython3",
   "version": "3.7.6"
  }
 },
 "nbformat": 4,
 "nbformat_minor": 4
}
