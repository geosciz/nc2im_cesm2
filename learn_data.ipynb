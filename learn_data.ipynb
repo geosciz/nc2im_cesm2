{
 "cells": [
  {
   "cell_type": "code",
   "execution_count": 1,
   "metadata": {},
   "outputs": [],
   "source": [
    "from os import chdir, listdir\n",
    "from warnings import simplefilter\n",
    "from xarray import open_dataset\n",
    "simplefilter(\"ignore\")"
   ]
  },
  {
   "cell_type": "code",
   "execution_count": 62,
   "metadata": {},
   "outputs": [],
   "source": [
    "chdir('/home/zhangc/cesm2_cmip6/nc_data/')"
   ]
  },
  {
   "cell_type": "code",
   "execution_count": 63,
   "metadata": {},
   "outputs": [
    {
     "data": {
      "text/plain": [
       "['fracdata_0.9x1.25_gx1v6_c090317.nc',\n",
       " 'USGS-gtopo30_0.9x1.25_remap_c051027.nc',\n",
       " 'soil_mon_ERA5_2015.nc',\n",
       " 'hus_6hrLev_CESM2_historical_r11i1p1f1_gn_200001010000-200912311800.nc',\n",
       " 'va_6hrLev_CESM2_historical_r11i1p1f1_gn_200001010000-200912311800.nc',\n",
       " 'ua_6hrLev_CESM2_historical_r11i1p1f1_gn_200001010000-200912311800.nc',\n",
       " 'tos_Oday_CESM2_historical_r11i1p1f1_gn_20000102-20150101.nc',\n",
       " 'siconc_SIday_CESM2_historical_r11i1p1f1_gn_20000102-20150101.nc',\n",
       " 'snw_day_CESM2_historical_r11i1p1f1_gn_20000101-20150101.nc',\n",
       " 'ta_6hrLev_CESM2_historical_r11i1p1f1_gn_200001010000-200912311800.nc',\n",
       " 'ts_Amon_CESM2_historical_r11i1p1f1_gn_200001-201412.nc',\n",
       " 'T_0.nc']"
      ]
     },
     "execution_count": 63,
     "metadata": {},
     "output_type": "execute_result"
    }
   ],
   "source": [
    "listdir()"
   ]
  },
  {
   "cell_type": "code",
   "execution_count": 64,
   "metadata": {},
   "outputs": [],
   "source": [
    "nc = 'T_0.nc'"
   ]
  },
  {
   "cell_type": "code",
   "execution_count": 65,
   "metadata": {},
   "outputs": [],
   "source": [
    "ds = open_dataset(nc)"
   ]
  },
  {
   "cell_type": "code",
   "execution_count": 91,
   "metadata": {},
   "outputs": [
    {
     "data": {
      "text/plain": [
       "30"
      ]
     },
     "execution_count": 91,
     "metadata": {},
     "output_type": "execute_result"
    }
   ],
   "source": [
    "len(ds.lev.values)"
   ]
  },
  {
   "cell_type": "code",
   "execution_count": 90,
   "metadata": {},
   "outputs": [
    {
     "data": {
      "text/plain": [
       "31"
      ]
     },
     "execution_count": 90,
     "metadata": {},
     "output_type": "execute_result"
    }
   ],
   "source": [
    "len(ds.ilev.values)"
   ]
  },
  {
   "cell_type": "code",
   "execution_count": 89,
   "metadata": {},
   "outputs": [
    {
     "data": {
      "text/plain": [
       "array([   2.25523952,    5.03169186,   10.15794743,   18.55531707,\n",
       "         30.66912293,   45.86747661,   63.32348287,   80.70141822,\n",
       "         94.94104236,  111.6932109 ,  131.40127063,  154.58680689,\n",
       "        181.86335266,  213.95282075,  251.70441717,  296.11721635,\n",
       "        348.36658835,  409.83521938,  482.14992881,  567.22442061,\n",
       "        652.33296901,  730.44589162,  796.36307061,  845.35366669,\n",
       "        873.71586636,  900.32463148,  924.96446241,  947.43233453,\n",
       "        967.53862454,  985.11219025, 1000.        ])"
      ]
     },
     "execution_count": 89,
     "metadata": {},
     "output_type": "execute_result"
    }
   ],
   "source": [
    "1000*(ds.hyai.values + ds.hybi.values)"
   ]
  }
 ],
 "metadata": {
  "kernelspec": {
   "display_name": "Python 3",
   "language": "python",
   "name": "python3"
  },
  "language_info": {
   "codemirror_mode": {
    "name": "ipython",
    "version": 3
   },
   "file_extension": ".py",
   "mimetype": "text/x-python",
   "name": "python",
   "nbconvert_exporter": "python",
   "pygments_lexer": "ipython3",
   "version": "3.7.6"
  }
 },
 "nbformat": 4,
 "nbformat_minor": 4
}
