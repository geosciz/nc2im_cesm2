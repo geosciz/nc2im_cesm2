{
 "cells": [
  {
   "cell_type": "code",
   "execution_count": 113,
   "metadata": {},
   "outputs": [],
   "source": [
    "from os import chdir, listdir\n",
    "from warnings import simplefilter\n",
    "from xarray import open_dataset\n",
    "simplefilter(\"ignore\")"
   ]
  },
  {
   "cell_type": "code",
   "execution_count": 114,
   "metadata": {},
   "outputs": [],
   "source": [
    "chdir('/home/zhangc/cesm2_cmip6/nc_data/')"
   ]
  },
  {
   "cell_type": "code",
   "execution_count": 124,
   "metadata": {},
   "outputs": [
    {
     "data": {
      "text/plain": [
       "['fracdata_0.9x1.25_gx1v6_c090317.nc',\n",
       " 'USGS-gtopo30_0.9x1.25_remap_c051027.nc',\n",
       " 'soil_mon_ERA5_2015.nc',\n",
       " 'hus_6hrLev_CESM2_historical_r11i1p1f1_gn_200001010000-200912311800.nc',\n",
       " 'va_6hrLev_CESM2_historical_r11i1p1f1_gn_200001010000-200912311800.nc',\n",
       " 'ua_6hrLev_CESM2_historical_r11i1p1f1_gn_200001010000-200912311800.nc',\n",
       " 'tos_Oday_CESM2_historical_r11i1p1f1_gn_20000102-20150101.nc',\n",
       " 'siconc_SIday_CESM2_historical_r11i1p1f1_gn_20000102-20150101.nc',\n",
       " 'snw_day_CESM2_historical_r11i1p1f1_gn_20000101-20150101.nc',\n",
       " 'ta_6hrLev_CESM2_historical_r11i1p1f1_gn_200001010000-200912311800.nc',\n",
       " 'ts_Amon_CESM2_historical_r11i1p1f1_gn_200001-201412.nc',\n",
       " 'T_0.nc',\n",
       " 'ts_6hrPlevPt_NorESM2-LM_historical_r1i1p1f1_gn_200001010600-201001010000.nc']"
      ]
     },
     "execution_count": 124,
     "metadata": {},
     "output_type": "execute_result"
    }
   ],
   "source": [
    "listdir()"
   ]
  },
  {
   "cell_type": "code",
   "execution_count": 125,
   "metadata": {},
   "outputs": [],
   "source": [
    "nc = 'ts_6hrPlevPt_NorESM2-LM_historical_r1i1p1f1_gn_200001010600-201001010000.nc'"
   ]
  },
  {
   "cell_type": "code",
   "execution_count": null,
   "metadata": {},
   "outputs": [],
   "source": [
    "ds = open_dataset(nc)"
   ]
  },
  {
   "cell_type": "code",
   "execution_count": 123,
   "metadata": {},
   "outputs": [
    {
     "data": {
      "text/plain": [
       "(180, 192, 288)"
      ]
     },
     "execution_count": 123,
     "metadata": {},
     "output_type": "execute_result"
    }
   ],
   "source": [
    "ds.ts.shape"
   ]
  }
 ],
 "metadata": {
  "kernelspec": {
   "display_name": "Python 3",
   "language": "python",
   "name": "python3"
  },
  "language_info": {
   "codemirror_mode": {
    "name": "ipython",
    "version": 3
   },
   "file_extension": ".py",
   "mimetype": "text/x-python",
   "name": "python",
   "nbconvert_exporter": "python",
   "pygments_lexer": "ipython3",
   "version": "3.7.6"
  }
 },
 "nbformat": 4,
 "nbformat_minor": 4
}
