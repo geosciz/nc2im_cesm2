{
 "cells": [
  {
   "cell_type": "code",
   "execution_count": 1,
   "metadata": {},
   "outputs": [],
   "source": [
    "from cftime import DatetimeNoLeap\n",
    "from os import chdir, system\n",
    "from numpy import float64, multiply\n",
    "from xarray import open_dataset"
   ]
  },
  {
   "cell_type": "code",
   "execution_count": 2,
   "metadata": {},
   "outputs": [],
   "source": [
    "chdir('/home/zhangc/scenariomip_cmip6/nc_data/')"
   ]
  },
  {
   "cell_type": "code",
   "execution_count": 46,
   "metadata": {},
   "outputs": [],
   "source": [
    "dt = 2015, 1, 1, 0\n",
    "data_time = DatetimeNoLeap(dt[0], dt[1], dt[2], dt[3])\n",
    "file_time = str(data_time).replace(' ', '_')"
   ]
  },
  {
   "cell_type": "code",
   "execution_count": 47,
   "metadata": {},
   "outputs": [],
   "source": [
    "ds = open_dataset('ta_6hrLev_CESM2_ssp245_r2i1p1f1_gn_201501010000-202412311800.nc')"
   ]
  },
  {
   "cell_type": "code",
   "execution_count": 50,
   "metadata": {},
   "outputs": [],
   "source": [
    "dst = ds.sel(time=data_time)"
   ]
  },
  {
   "cell_type": "code",
   "execution_count": 51,
   "metadata": {},
   "outputs": [
    {
     "data": {
      "text/html": [
       "<pre>&lt;xarray.Dataset&gt;\n",
       "Dimensions:   (lat: 192, lev: 32, lon: 288, nbnd: 2)\n",
       "Coordinates:\n",
       "  * lat       (lat) float64 -90.0 -89.06 -88.12 -87.17 ... 88.12 89.06 90.0\n",
       "  * lev       (lev) float64 -3.643 -7.595 -14.36 -24.61 ... -957.5 -976.3 -992.6\n",
       "  * lon       (lon) float64 0.0 1.25 2.5 3.75 5.0 ... 355.0 356.2 357.5 358.8\n",
       "    time      object 2015-01-01 00:00:00\n",
       "Dimensions without coordinates: nbnd\n",
       "Data variables:\n",
       "    ta        (lev, lat, lon) float32 ...\n",
       "    ps        (lat, lon) float32 ...\n",
       "    p0        float32 ...\n",
       "    a         (lev) float64 ...\n",
       "    b         (lev) float64 ...\n",
       "    b_bnds    (lev, nbnd) float64 ...\n",
       "    lat_bnds  (lat, nbnd) float64 ...\n",
       "    lon_bnds  (lon, nbnd) float64 ...\n",
       "    lev_bnds  (lev, nbnd) float64 ...\n",
       "    a_bnds    (lev, nbnd) float64 ...\n",
       "Attributes:\n",
       "    Conventions:            CF-1.7 CMIP-6.2\n",
       "    activity_id:            ScenarioMIP\n",
       "    branch_method:          standard\n",
       "    branch_time_in_child:   735110.0\n",
       "    branch_time_in_parent:  735110.0\n",
       "    case_id:                1523\n",
       "    cesm_casename:          b.e21.BSSP245cmip6.f09_g17.CMIP6-SSP2-4.5.002\n",
       "    contact:                cesm_cmip6@ucar.edu\n",
       "    creation_date:          2019-08-28T08:54:12Z\n",
       "    data_specs_version:     01.00.31\n",
       "    experiment:             SSP-based RCP scenario with medium radiative forc...\n",
       "    experiment_id:          ssp245\n",
       "    external_variables:     areacella\n",
       "    forcing_index:          1\n",
       "    frequency:              6hrPt\n",
       "    further_info_url:       https://furtherinfo.es-doc.org/CMIP6.NCAR.CESM2.s...\n",
       "    grid:                   native 0.9x1.25 finite volume grid (192x288 latxlon)\n",
       "    grid_label:             gn\n",
       "    initialization_index:   1\n",
       "    institution:            National Center for Atmospheric Research, Climate...\n",
       "    institution_id:         NCAR\n",
       "    license:                CMIP6 model data produced by &lt;The National Center...\n",
       "    mip_era:                CMIP6\n",
       "    model_doi_url:          https://doi.org/10.5065/D67H1H0V\n",
       "    nominal_resolution:     100 km\n",
       "    parent_activity_id:     CMIP\n",
       "    parent_experiment_id:   historical\n",
       "    parent_mip_era:         CMIP6\n",
       "    parent_source_id:       CESM2\n",
       "    parent_time_units:      days since 0001-01-01 00:00:00\n",
       "    parent_variant_label:   r11i1p1f1\n",
       "    physics_index:          1\n",
       "    product:                model-output\n",
       "    realization_index:      2\n",
       "    realm:                  atmos\n",
       "    source:                 CESM2 (2017): atmosphere: CAM6 (0.9x1.25 finite v...\n",
       "    source_id:              CESM2\n",
       "    source_type:            AOGCM BGC AER\n",
       "    sub_experiment:         none\n",
       "    sub_experiment_id:      none\n",
       "    table_id:               6hrLev\n",
       "    tracking_id:            hdl:21.14100/cad0d4f6-1346-4ac3-8c1e-baa797692e86\n",
       "    variable_id:            ta\n",
       "    variant_info:           CMIP6 SSP2-4.5 experiments (2015-2100) with CAM6,...\n",
       "    variant_label:          r2i1p1f1</pre>"
      ],
      "text/plain": [
       "<xarray.Dataset>\n",
       "Dimensions:   (lat: 192, lev: 32, lon: 288, nbnd: 2)\n",
       "Coordinates:\n",
       "  * lat       (lat) float64 -90.0 -89.06 -88.12 -87.17 ... 88.12 89.06 90.0\n",
       "  * lev       (lev) float64 -3.643 -7.595 -14.36 -24.61 ... -957.5 -976.3 -992.6\n",
       "  * lon       (lon) float64 0.0 1.25 2.5 3.75 5.0 ... 355.0 356.2 357.5 358.8\n",
       "    time      object 2015-01-01 00:00:00\n",
       "Dimensions without coordinates: nbnd\n",
       "Data variables:\n",
       "    ta        (lev, lat, lon) float32 ...\n",
       "    ps        (lat, lon) float32 ...\n",
       "    p0        float32 ...\n",
       "    a         (lev) float64 ...\n",
       "    b         (lev) float64 ...\n",
       "    b_bnds    (lev, nbnd) float64 ...\n",
       "    lat_bnds  (lat, nbnd) float64 ...\n",
       "    lon_bnds  (lon, nbnd) float64 ...\n",
       "    lev_bnds  (lev, nbnd) float64 ...\n",
       "    a_bnds    (lev, nbnd) float64 ...\n",
       "Attributes:\n",
       "    Conventions:            CF-1.7 CMIP-6.2\n",
       "    activity_id:            ScenarioMIP\n",
       "    branch_method:          standard\n",
       "    branch_time_in_child:   735110.0\n",
       "    branch_time_in_parent:  735110.0\n",
       "    case_id:                1523\n",
       "    cesm_casename:          b.e21.BSSP245cmip6.f09_g17.CMIP6-SSP2-4.5.002\n",
       "    contact:                cesm_cmip6@ucar.edu\n",
       "    creation_date:          2019-08-28T08:54:12Z\n",
       "    data_specs_version:     01.00.31\n",
       "    experiment:             SSP-based RCP scenario with medium radiative forc...\n",
       "    experiment_id:          ssp245\n",
       "    external_variables:     areacella\n",
       "    forcing_index:          1\n",
       "    frequency:              6hrPt\n",
       "    further_info_url:       https://furtherinfo.es-doc.org/CMIP6.NCAR.CESM2.s...\n",
       "    grid:                   native 0.9x1.25 finite volume grid (192x288 latxlon)\n",
       "    grid_label:             gn\n",
       "    initialization_index:   1\n",
       "    institution:            National Center for Atmospheric Research, Climate...\n",
       "    institution_id:         NCAR\n",
       "    license:                CMIP6 model data produced by <The National Center...\n",
       "    mip_era:                CMIP6\n",
       "    model_doi_url:          https://doi.org/10.5065/D67H1H0V\n",
       "    nominal_resolution:     100 km\n",
       "    parent_activity_id:     CMIP\n",
       "    parent_experiment_id:   historical\n",
       "    parent_mip_era:         CMIP6\n",
       "    parent_source_id:       CESM2\n",
       "    parent_time_units:      days since 0001-01-01 00:00:00\n",
       "    parent_variant_label:   r11i1p1f1\n",
       "    physics_index:          1\n",
       "    product:                model-output\n",
       "    realization_index:      2\n",
       "    realm:                  atmos\n",
       "    source:                 CESM2 (2017): atmosphere: CAM6 (0.9x1.25 finite v...\n",
       "    source_id:              CESM2\n",
       "    source_type:            AOGCM BGC AER\n",
       "    sub_experiment:         none\n",
       "    sub_experiment_id:      none\n",
       "    table_id:               6hrLev\n",
       "    tracking_id:            hdl:21.14100/cad0d4f6-1346-4ac3-8c1e-baa797692e86\n",
       "    variable_id:            ta\n",
       "    variant_info:           CMIP6 SSP2-4.5 experiments (2015-2100) with CAM6,...\n",
       "    variant_label:          r2i1p1f1"
      ]
     },
     "execution_count": 51,
     "metadata": {},
     "output_type": "execute_result"
    }
   ],
   "source": [
    "dst"
   ]
  },
  {
   "cell_type": "code",
   "execution_count": null,
   "metadata": {},
   "outputs": [],
   "source": []
  }
 ],
 "metadata": {
  "kernelspec": {
   "display_name": "Python 3",
   "language": "python",
   "name": "python3"
  },
  "language_info": {
   "codemirror_mode": {
    "name": "ipython",
    "version": 3
   },
   "file_extension": ".py",
   "mimetype": "text/x-python",
   "name": "python",
   "nbconvert_exporter": "python",
   "pygments_lexer": "ipython3",
   "version": "3.7.6"
  }
 },
 "nbformat": 4,
 "nbformat_minor": 4
}
