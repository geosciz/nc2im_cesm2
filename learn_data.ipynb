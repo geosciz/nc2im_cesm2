{
 "cells": [
  {
   "cell_type": "code",
   "execution_count": 10,
   "metadata": {},
   "outputs": [],
   "source": [
    "from xarray import open_dataset\n",
    "from matplotlib import pyplot as plt\n",
    "from os import chdir"
   ]
  },
  {
   "cell_type": "code",
   "execution_count": 63,
   "metadata": {},
   "outputs": [],
   "source": [
    "chdir('/home/zhangc/scenariomip_cmip6/')"
   ]
  },
  {
   "cell_type": "code",
   "execution_count": 71,
   "metadata": {
    "scrolled": true
   },
   "outputs": [
    {
     "name": "stderr",
     "output_type": "stream",
     "text": [
      "/home/zhangc/miniconda3/envs/python3/lib/python3.7/site-packages/xarray/conventions.py:494: SerializationWarning: variable 'siconc' has multiple fill values {1e+20, 1e+20}, decoding all values to NaN.\n",
      "  use_cftime=use_cftime,\n"
     ]
    },
    {
     "data": {
      "text/html": [
       "<pre>&lt;xarray.Dataset&gt;\n",
       "Dimensions:    (d2: 2, ni: 320, nj: 384, nvertices: 4, time: 18250)\n",
       "Coordinates:\n",
       "    lat        (nj, ni) float64 ...\n",
       "    lon        (nj, ni) float64 ...\n",
       "  * ni         (ni) int32 1 2 3 4 5 6 7 8 9 ... 313 314 315 316 317 318 319 320\n",
       "  * nj         (nj) int32 1 2 3 4 5 6 7 8 9 ... 377 378 379 380 381 382 383 384\n",
       "  * time       (time) object 2015-01-02 00:00:00 ... 2065-01-01 00:00:00\n",
       "Dimensions without coordinates: d2, nvertices\n",
       "Data variables:\n",
       "    siconc     (time, nj, ni) float32 ...\n",
       "    time_bnds  (time, d2) object ...\n",
       "    lat_bnds   (nj, ni, nvertices) float32 ...\n",
       "    lon_bnds   (nj, ni, nvertices) float32 ...\n",
       "Attributes:\n",
       "    Conventions:            CF-1.7 CMIP-6.2\n",
       "    activity_id:            ScenarioMIP\n",
       "    branch_method:          standard\n",
       "    branch_time_in_child:   735110.0\n",
       "    branch_time_in_parent:  735110.0\n",
       "    case_id:                1523\n",
       "    cesm_casename:          b.e21.BSSP245cmip6.f09_g17.CMIP6-SSP2-4.5.002\n",
       "    contact:                cesm_cmip6@ucar.edu\n",
       "    creation_date:          2019-08-28T07:08:10Z\n",
       "    data_specs_version:     01.00.31\n",
       "    experiment:             SSP-based RCP scenario with medium radiative forc...\n",
       "    experiment_id:          ssp245\n",
       "    external_variables:     areacello\n",
       "    forcing_index:          1\n",
       "    frequency:              day\n",
       "    further_info_url:       https://furtherinfo.es-doc.org/CMIP6.NCAR.CESM2.s...\n",
       "    grid:                   native gx1v7 displaced pole grid (384x320 latxlon)\n",
       "    grid_label:             gn\n",
       "    initialization_index:   1\n",
       "    institution:            National Center for Atmospheric Research, Climate...\n",
       "    institution_id:         NCAR\n",
       "    license:                CMIP6 model data produced by &lt;The National Center...\n",
       "    mip_era:                CMIP6\n",
       "    model_doi_url:          https://doi.org/10.5065/D67H1H0V\n",
       "    nominal_resolution:     100 km\n",
       "    parent_activity_id:     CMIP\n",
       "    parent_experiment_id:   historical\n",
       "    parent_mip_era:         CMIP6\n",
       "    parent_source_id:       CESM2\n",
       "    parent_time_units:      days since 0001-01-01 00:00:00\n",
       "    parent_variant_label:   r11i1p1f1\n",
       "    physics_index:          1\n",
       "    product:                model-output\n",
       "    realization_index:      2\n",
       "    realm:                  seaIce\n",
       "    source:                 CESM2 (2017): atmosphere: CAM6 (0.9x1.25 finite v...\n",
       "    source_id:              CESM2\n",
       "    source_type:            AOGCM BGC AER\n",
       "    sub_experiment:         none\n",
       "    sub_experiment_id:      none\n",
       "    table_id:               SIday\n",
       "    tracking_id:            hdl:21.14100/60f4e75a-780a-4b0b-ab7b-a1729341a50d\n",
       "    variable_id:            siconc\n",
       "    variant_info:           CMIP6 SSP2-4.5 experiments (2015-2100) with CAM6,...\n",
       "    variant_label:          r2i1p1f1</pre>"
      ],
      "text/plain": [
       "<xarray.Dataset>\n",
       "Dimensions:    (d2: 2, ni: 320, nj: 384, nvertices: 4, time: 18250)\n",
       "Coordinates:\n",
       "    lat        (nj, ni) float64 ...\n",
       "    lon        (nj, ni) float64 ...\n",
       "  * ni         (ni) int32 1 2 3 4 5 6 7 8 9 ... 313 314 315 316 317 318 319 320\n",
       "  * nj         (nj) int32 1 2 3 4 5 6 7 8 9 ... 377 378 379 380 381 382 383 384\n",
       "  * time       (time) object 2015-01-02 00:00:00 ... 2065-01-01 00:00:00\n",
       "Dimensions without coordinates: d2, nvertices\n",
       "Data variables:\n",
       "    siconc     (time, nj, ni) float32 ...\n",
       "    time_bnds  (time, d2) object ...\n",
       "    lat_bnds   (nj, ni, nvertices) float32 ...\n",
       "    lon_bnds   (nj, ni, nvertices) float32 ...\n",
       "Attributes:\n",
       "    Conventions:            CF-1.7 CMIP-6.2\n",
       "    activity_id:            ScenarioMIP\n",
       "    branch_method:          standard\n",
       "    branch_time_in_child:   735110.0\n",
       "    branch_time_in_parent:  735110.0\n",
       "    case_id:                1523\n",
       "    cesm_casename:          b.e21.BSSP245cmip6.f09_g17.CMIP6-SSP2-4.5.002\n",
       "    contact:                cesm_cmip6@ucar.edu\n",
       "    creation_date:          2019-08-28T07:08:10Z\n",
       "    data_specs_version:     01.00.31\n",
       "    experiment:             SSP-based RCP scenario with medium radiative forc...\n",
       "    experiment_id:          ssp245\n",
       "    external_variables:     areacello\n",
       "    forcing_index:          1\n",
       "    frequency:              day\n",
       "    further_info_url:       https://furtherinfo.es-doc.org/CMIP6.NCAR.CESM2.s...\n",
       "    grid:                   native gx1v7 displaced pole grid (384x320 latxlon)\n",
       "    grid_label:             gn\n",
       "    initialization_index:   1\n",
       "    institution:            National Center for Atmospheric Research, Climate...\n",
       "    institution_id:         NCAR\n",
       "    license:                CMIP6 model data produced by <The National Center...\n",
       "    mip_era:                CMIP6\n",
       "    model_doi_url:          https://doi.org/10.5065/D67H1H0V\n",
       "    nominal_resolution:     100 km\n",
       "    parent_activity_id:     CMIP\n",
       "    parent_experiment_id:   historical\n",
       "    parent_mip_era:         CMIP6\n",
       "    parent_source_id:       CESM2\n",
       "    parent_time_units:      days since 0001-01-01 00:00:00\n",
       "    parent_variant_label:   r11i1p1f1\n",
       "    physics_index:          1\n",
       "    product:                model-output\n",
       "    realization_index:      2\n",
       "    realm:                  seaIce\n",
       "    source:                 CESM2 (2017): atmosphere: CAM6 (0.9x1.25 finite v...\n",
       "    source_id:              CESM2\n",
       "    source_type:            AOGCM BGC AER\n",
       "    sub_experiment:         none\n",
       "    sub_experiment_id:      none\n",
       "    table_id:               SIday\n",
       "    tracking_id:            hdl:21.14100/60f4e75a-780a-4b0b-ab7b-a1729341a50d\n",
       "    variable_id:            siconc\n",
       "    variant_info:           CMIP6 SSP2-4.5 experiments (2015-2100) with CAM6,...\n",
       "    variant_label:          r2i1p1f1"
      ]
     },
     "execution_count": 71,
     "metadata": {},
     "output_type": "execute_result"
    }
   ],
   "source": [
    "ds = open_dataset('siconc_SIday_CESM2_ssp245_r2i1p1f1_gn_20150102-20650101.nc')\n",
    "ds"
   ]
  },
  {
   "cell_type": "code",
   "execution_count": 74,
   "metadata": {},
   "outputs": [
    {
     "data": {
      "text/plain": [
       "array([[-7.92205200e+01, -7.92205200e+01, -7.92205200e+01, ...,\n",
       "        -7.92205200e+01, -7.92205200e+01, -7.92205200e+01],\n",
       "       [-7.86863098e+01, -7.86863098e+01, -7.86863098e+01, ...,\n",
       "        -7.86863098e+01, -7.86863098e+01, -7.86863098e+01],\n",
       "       [-7.81520920e+01, -7.81520920e+01, -7.81520920e+01, ...,\n",
       "        -7.81520920e+01, -7.81520920e+01, -7.81520920e+01],\n",
       "       ...,\n",
       "       [ 9.96920997e+36,  9.96920997e+36,  9.96920997e+36, ...,\n",
       "         9.96920997e+36,  9.96920997e+36,  9.96920997e+36],\n",
       "       [ 9.96920997e+36,  9.96920997e+36,  9.96920997e+36, ...,\n",
       "         9.96920997e+36,  9.96920997e+36,  9.96920997e+36],\n",
       "       [ 9.96920997e+36,  9.96920997e+36,  9.96920997e+36, ...,\n",
       "         9.96920997e+36,  9.96920997e+36,  9.96920997e+36]])"
      ]
     },
     "execution_count": 74,
     "metadata": {},
     "output_type": "execute_result"
    }
   ],
   "source": [
    "ds.lat.values"
   ]
  },
  {
   "cell_type": "code",
   "execution_count": null,
   "metadata": {},
   "outputs": [],
   "source": []
  }
 ],
 "metadata": {
  "kernelspec": {
   "display_name": "Python 3",
   "language": "python",
   "name": "python3"
  },
  "language_info": {
   "codemirror_mode": {
    "name": "ipython",
    "version": 3
   },
   "file_extension": ".py",
   "mimetype": "text/x-python",
   "name": "python",
   "nbconvert_exporter": "python",
   "pygments_lexer": "ipython3",
   "version": "3.7.6"
  }
 },
 "nbformat": 4,
 "nbformat_minor": 4
}
