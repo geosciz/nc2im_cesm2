{
 "cells": [
  {
   "cell_type": "code",
   "execution_count": 1,
   "metadata": {},
   "outputs": [],
   "source": [
    "from os import chdir\n",
    "from xarray import open_dataset"
   ]
  },
  {
   "cell_type": "code",
   "execution_count": 4,
   "metadata": {},
   "outputs": [],
   "source": [
    "chdir('/home/zhangc/scenariomip_cmip6/data/')"
   ]
  },
  {
   "cell_type": "code",
   "execution_count": 5,
   "metadata": {},
   "outputs": [
    {
     "name": "stderr",
     "output_type": "stream",
     "text": [
      "/home/zhangc/miniconda3/envs/python3/lib/python3.7/site-packages/xarray/conventions.py:494: SerializationWarning: variable 'ta' has multiple fill values {1e+20, 1e+20}, decoding all values to NaN.\n",
      "  use_cftime=use_cftime,\n"
     ]
    }
   ],
   "source": [
    "ta = open_dataset('ta_6hrLev_CESM2_ssp245_r2i1p1f1_gn_201501010000-202412311800.nc')"
   ]
  },
  {
   "cell_type": "code",
   "execution_count": 6,
   "metadata": {},
   "outputs": [],
   "source": [
    "data_time = ta.time[0].values"
   ]
  },
  {
   "cell_type": "code",
   "execution_count": 7,
   "metadata": {},
   "outputs": [
    {
     "data": {
      "text/plain": [
       "'2015-01-01 00:00:00'"
      ]
     },
     "execution_count": 7,
     "metadata": {},
     "output_type": "execute_result"
    }
   ],
   "source": [
    "str(data_time)"
   ]
  },
  {
   "cell_type": "code",
   "execution_count": 8,
   "metadata": {},
   "outputs": [],
   "source": [
    "ds = ta.sel(time=data_time)"
   ]
  },
  {
   "cell_type": "code",
   "execution_count": 9,
   "metadata": {},
   "outputs": [],
   "source": [
    "file_name = 'ta_' + str(data_time).replace(' ', '_') + '.nc'"
   ]
  },
  {
   "cell_type": "code",
   "execution_count": 11,
   "metadata": {},
   "outputs": [
    {
     "data": {
      "text/html": [
       "<pre>&lt;xarray.DataArray &#x27;lev&#x27; (lev: 32)&gt;\n",
       "array([  -3.643466,   -7.59482 ,  -14.356632,  -24.61222 ,  -35.92325 ,\n",
       "        -43.19375 ,  -51.677499,  -61.520498,  -73.750958,  -87.82123 ,\n",
       "       -103.317127, -121.547241, -142.994039, -168.22508 , -197.908087,\n",
       "       -232.828619, -273.910817, -322.241902, -379.100904, -445.992574,\n",
       "       -524.687175, -609.778695, -691.38943 , -763.404481, -820.858369,\n",
       "       -859.534767, -887.020249, -912.644547, -936.198398, -957.48548 ,\n",
       "       -976.325407, -992.556095])\n",
       "Coordinates:\n",
       "  * lev      (lev) float64 -3.643 -7.595 -14.36 -24.61 ... -957.5 -976.3 -992.6\n",
       "    time     object 2015-01-01 00:00:00\n",
       "Attributes:\n",
       "    axis:           Z\n",
       "    bounds:         lev_bnds\n",
       "    positive:       up\n",
       "    standard_name:  alevel\n",
       "    title:          atmospheric model level\n",
       "    type:           double\n",
       "    units:          hPa</pre>"
      ],
      "text/plain": [
       "<xarray.DataArray 'lev' (lev: 32)>\n",
       "array([  -3.643466,   -7.59482 ,  -14.356632,  -24.61222 ,  -35.92325 ,\n",
       "        -43.19375 ,  -51.677499,  -61.520498,  -73.750958,  -87.82123 ,\n",
       "       -103.317127, -121.547241, -142.994039, -168.22508 , -197.908087,\n",
       "       -232.828619, -273.910817, -322.241902, -379.100904, -445.992574,\n",
       "       -524.687175, -609.778695, -691.38943 , -763.404481, -820.858369,\n",
       "       -859.534767, -887.020249, -912.644547, -936.198398, -957.48548 ,\n",
       "       -976.325407, -992.556095])\n",
       "Coordinates:\n",
       "  * lev      (lev) float64 -3.643 -7.595 -14.36 -24.61 ... -957.5 -976.3 -992.6\n",
       "    time     object 2015-01-01 00:00:00\n",
       "Attributes:\n",
       "    axis:           Z\n",
       "    bounds:         lev_bnds\n",
       "    positive:       up\n",
       "    standard_name:  alevel\n",
       "    title:          atmospheric model level\n",
       "    type:           double\n",
       "    units:          hPa"
      ]
     },
     "execution_count": 11,
     "metadata": {},
     "output_type": "execute_result"
    }
   ],
   "source": [
    "ds.lev"
   ]
  },
  {
   "cell_type": "code",
   "execution_count": null,
   "metadata": {},
   "outputs": [],
   "source": [
    "#ds.to_netcdf(file_name)"
   ]
  }
 ],
 "metadata": {
  "kernelspec": {
   "display_name": "Python 3",
   "language": "python",
   "name": "python3"
  },
  "language_info": {
   "codemirror_mode": {
    "name": "ipython",
    "version": 3
   },
   "file_extension": ".py",
   "mimetype": "text/x-python",
   "name": "python",
   "nbconvert_exporter": "python",
   "pygments_lexer": "ipython3",
   "version": "3.7.6"
  }
 },
 "nbformat": 4,
 "nbformat_minor": 4
}
