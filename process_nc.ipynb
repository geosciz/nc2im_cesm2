{
 "cells": [
  {
   "cell_type": "code",
   "execution_count": 1,
   "metadata": {},
   "outputs": [],
   "source": [
    "from cftime import DatetimeNoLeap\n",
    "from datetime import timedelta\n",
    "from numpy import append, datetime64, empty, float32, float64, full, repeat, stack\n",
    "from os import chdir, system\n",
    "from scipy.interpolate import griddata\n",
    "from warnings import simplefilter\n",
    "from xarray import DataArray, open_dataset\n",
    "simplefilter(\"ignore\")"
   ]
  },
  {
   "cell_type": "code",
   "execution_count": 2,
   "metadata": {},
   "outputs": [],
   "source": [
    "start_year = 2001\n",
    "start_month = 1\n",
    "start_day = 1"
   ]
  },
  {
   "cell_type": "code",
   "execution_count": 3,
   "metadata": {},
   "outputs": [],
   "source": [
    "end_year = 2001\n",
    "end_month = 1\n",
    "end_day = 2"
   ]
  },
  {
   "cell_type": "markdown",
   "metadata": {},
   "source": [
    "**paths**"
   ]
  },
  {
   "cell_type": "code",
   "execution_count": 4,
   "metadata": {},
   "outputs": [],
   "source": [
    "nc_path = '/home/zhangc/cesm2_cmip6/nc_data/'\n",
    "im_path = '/home/zhangc/cesm2_cmip6/im_data/'\n",
    "os_path = '/home/zhangc/repositories/nc2im_cesm2/'"
   ]
  },
  {
   "cell_type": "markdown",
   "metadata": {},
   "source": [
    "**data**"
   ]
  },
  {
   "cell_type": "code",
   "execution_count": 5,
   "metadata": {},
   "outputs": [],
   "source": [
    "ncs = ['ta_6hrLev_CESM2_historical_r11i1p1f1_gn_200001010000-200912311800.nc',  #  0\n",
    "       'hus_6hrLev_CESM2_historical_r11i1p1f1_gn_200001010000-200912311800.nc', #  1\n",
    "       'ua_6hrLev_CESM2_historical_r11i1p1f1_gn_200001010000-200912311800.nc',  #  2\n",
    "       'va_6hrLev_CESM2_historical_r11i1p1f1_gn_200001010000-200912311800.nc',  #  3\n",
    "       'tos_Oday_CESM2_historical_r11i1p1f1_gn_20000102-20150101.nc',           #  4\n",
    "       'siconc_SIday_CESM2_historical_r11i1p1f1_gn_20000102-20150101.nc',       #  5\n",
    "       'snw_day_CESM2_historical_r11i1p1f1_gn_20000101-20150101.nc',            #  6\n",
    "       'ts_Amon_CESM2_historical_r11i1p1f1_gn_200001-201412.nc',                #  7\n",
    "       'tsl_Lmon_CESM2_historical_r11i1p1f1_gn_200001-201412.nc',               #  8\n",
    "       'soil_mon_ERA5_2015.nc',                                                 #  9\n",
    "       'landmask_CESM2.nc',                                                     # 10\n",
    "       'phis_CESM2.nc']                                                         # 11"
   ]
  },
  {
   "cell_type": "code",
   "execution_count": 6,
   "metadata": {},
   "outputs": [],
   "source": [
    "chdir(nc_path)"
   ]
  },
  {
   "cell_type": "code",
   "execution_count": 7,
   "metadata": {},
   "outputs": [],
   "source": [
    "dss = []\n",
    "for nc in ncs:\n",
    "    ds = open_dataset(nc)\n",
    "    dss.append(ds)"
   ]
  },
  {
   "cell_type": "markdown",
   "metadata": {},
   "source": [
    "**datetime**"
   ]
  },
  {
   "cell_type": "code",
   "execution_count": 8,
   "metadata": {},
   "outputs": [],
   "source": [
    "start_date = DatetimeNoLeap(start_year, start_month, start_day)\n",
    "end_date = DatetimeNoLeap(end_year, end_month, end_day)"
   ]
  },
  {
   "cell_type": "code",
   "execution_count": 9,
   "metadata": {},
   "outputs": [],
   "source": [
    "dates = []\n",
    "date = start_date"
   ]
  },
  {
   "cell_type": "code",
   "execution_count": 10,
   "metadata": {},
   "outputs": [],
   "source": [
    "while date <= end_date:\n",
    "    dates.append(date)\n",
    "    date += timedelta(hours=6)"
   ]
  },
  {
   "cell_type": "code",
   "execution_count": 11,
   "metadata": {},
   "outputs": [],
   "source": [
    "date = dates[0]"
   ]
  },
  {
   "cell_type": "code",
   "execution_count": 12,
   "metadata": {},
   "outputs": [],
   "source": [
    "tnum = date.year, date.month, date.day, date.hour\n",
    "t6hr = DatetimeNoLeap(tnum[0], tnum[1], tnum[2], tnum[3])\n",
    "tday = DatetimeNoLeap(tnum[0], tnum[1], tnum[2]) + timedelta(days=1)\n",
    "if tnum[1] is 2:\n",
    "    mid_day = 14\n",
    "else:\n",
    "    mid_day = 15\n",
    "if tnum[1] in [1, 3, 5, 7, 8, 10, 12]:\n",
    "    mid_hour = 12\n",
    "else:\n",
    "    mid_hour = 0\n",
    "tmon = DatetimeNoLeap(tnum[0], tnum[1], mid_day, mid_hour)\n",
    "tera = datetime64('2015-'+str(tnum[1]).zfill(2)+'-01')\n",
    "file_time = str(t6hr).replace(' ', '_')"
   ]
  },
  {
   "cell_type": "markdown",
   "metadata": {},
   "source": [
    "**land-sea mask**"
   ]
  },
  {
   "cell_type": "code",
   "execution_count": 13,
   "metadata": {},
   "outputs": [],
   "source": [
    "v = dss[10].landmask.values\n",
    "da = DataArray(name='ls', data=float32(v))\n",
    "file_name = 'ls_' + file_time + '.nc'\n",
    "da.to_netcdf(im_path+file_name)"
   ]
  },
  {
   "cell_type": "markdown",
   "metadata": {},
   "source": [
    "**surface geopotential**"
   ]
  },
  {
   "cell_type": "code",
   "execution_count": 14,
   "metadata": {},
   "outputs": [],
   "source": [
    "v = dss[11].phis.values\n",
    "da = DataArray(name='phis', data=float32(v))\n",
    "file_name = 'phis_' + file_time + '.nc'\n",
    "da.to_netcdf(im_path+file_name)"
   ]
  },
  {
   "cell_type": "markdown",
   "metadata": {},
   "source": [
    "**soil height**"
   ]
  },
  {
   "cell_type": "code",
   "execution_count": 15,
   "metadata": {},
   "outputs": [],
   "source": [
    "v = dss[11].phis.values/9.80655\n",
    "da = DataArray(name='sh', data=float32(v))\n",
    "file_name = 'sh_' + file_time + '.nc'\n",
    "da.to_netcdf(im_path+file_name)"
   ]
  },
  {
   "cell_type": "markdown",
   "metadata": {},
   "source": [
    "**time**"
   ]
  },
  {
   "cell_type": "code",
   "execution_count": 16,
   "metadata": {
    "scrolled": true
   },
   "outputs": [],
   "source": [
    "ds = dss[0].sel(time=t6hr)\n",
    "da = ds.ta\n",
    "file_name = 'time_' + file_time + '.nc'\n",
    "da.to_netcdf(im_path+file_name)"
   ]
  },
  {
   "cell_type": "markdown",
   "metadata": {},
   "source": [
    "**horizontal coordinates**"
   ]
  },
  {
   "cell_type": "code",
   "execution_count": 17,
   "metadata": {},
   "outputs": [],
   "source": [
    "ss = ['lon', 'lat']"
   ]
  },
  {
   "cell_type": "code",
   "execution_count": 18,
   "metadata": {},
   "outputs": [],
   "source": [
    "for s in ss:  \n",
    "    v = ds[s].values\n",
    "    da = DataArray(name=s, data=float64(v))\n",
    "    file_name = s + '_' + file_time + '.nc'\n",
    "    da.to_netcdf(im_path+file_name)"
   ]
  },
  {
   "cell_type": "markdown",
   "metadata": {},
   "source": [
    "**vertical coordinates**"
   ]
  },
  {
   "cell_type": "code",
   "execution_count": 19,
   "metadata": {},
   "outputs": [],
   "source": [
    "v = ds.a.values\n",
    "da = DataArray(name='hyam', data=float32(v))\n",
    "file_name = 'hyam' + '_' + file_time + '.nc'\n",
    "da.to_netcdf(im_path+file_name)"
   ]
  },
  {
   "cell_type": "code",
   "execution_count": 20,
   "metadata": {},
   "outputs": [],
   "source": [
    "v = ds.b.values\n",
    "da = DataArray(name='hybm', data=float32(v))\n",
    "file_name = 'hybm' + '_' + file_time + '.nc'\n",
    "da.to_netcdf(im_path+file_name)"
   ]
  },
  {
   "cell_type": "code",
   "execution_count": 21,
   "metadata": {},
   "outputs": [],
   "source": [
    "v0 = ds.a_bnds.values[:,0]\n",
    "v1 = ds.a_bnds.values[:,1]\n",
    "v = append(v1, v0[-1])\n",
    "da = DataArray(name='hyai', data=float32(v))\n",
    "da.to_netcdf(im_path+file_name)"
   ]
  },
  {
   "cell_type": "code",
   "execution_count": 22,
   "metadata": {},
   "outputs": [],
   "source": [
    "v0 = ds.b_bnds.values[:,0]\n",
    "v1 = ds.b_bnds.values[:,1]\n",
    "v = append(v1, v0[-1])\n",
    "da = DataArray(name='hybi', data=float32(v))\n",
    "da.to_netcdf(im_path+file_name)"
   ]
  },
  {
   "cell_type": "markdown",
   "metadata": {},
   "source": [
    "**surface pressure**"
   ]
  },
  {
   "cell_type": "code",
   "execution_count": 23,
   "metadata": {},
   "outputs": [],
   "source": [
    "v = ds.ps.values\n",
    "da = DataArray(name='ps', data=float32(v))\n",
    "file_name = 'ps_' + file_time + '.nc'\n",
    "da.to_netcdf(im_path+file_name)"
   ]
  },
  {
   "cell_type": "markdown",
   "metadata": {},
   "source": [
    "**3d pressure**"
   ]
  },
  {
   "cell_type": "code",
   "execution_count": 24,
   "metadata": {},
   "outputs": [],
   "source": [
    "a = ds.a.values\n",
    "b = ds.b.values\n",
    "ps = ds.ps.values\n",
    "p0 = full(ps.shape, ds.p0.values)"
   ]
  },
  {
   "cell_type": "code",
   "execution_count": 25,
   "metadata": {},
   "outputs": [],
   "source": [
    "shape = ds.ta.shape\n",
    "v = empty(shape)\n",
    "for i in range(shape[0]):\n",
    "    v[i] = a[i]*p0 + b[i]*ps"
   ]
  },
  {
   "cell_type": "code",
   "execution_count": 26,
   "metadata": {},
   "outputs": [],
   "source": [
    "da = DataArray(name='p', data=float32(v))\n",
    "file_name = 'p_' + file_time + '.nc'\n",
    "da.to_netcdf(im_path+file_name)"
   ]
  },
  {
   "cell_type": "markdown",
   "metadata": {},
   "source": [
    "**3d temperature**"
   ]
  },
  {
   "cell_type": "code",
   "execution_count": 27,
   "metadata": {},
   "outputs": [],
   "source": [
    "v = ds.ta.values\n",
    "da = DataArray(name='ta', data=float32(v))\n",
    "file_name = 'ta_' + file_time + '.nc'\n",
    "da.to_netcdf(im_path+file_name)"
   ]
  },
  {
   "cell_type": "markdown",
   "metadata": {},
   "source": [
    "**3d humidity**"
   ]
  },
  {
   "cell_type": "code",
   "execution_count": 28,
   "metadata": {},
   "outputs": [],
   "source": [
    "v = dss[1].hus.sel(time=t6hr).sortby('lev').values\n",
    "da = DataArray(name='hus', data=float32(v))\n",
    "file_name = 'hus_' + file_time + '.nc'\n",
    "da.to_netcdf(im_path+file_name)"
   ]
  },
  {
   "cell_type": "markdown",
   "metadata": {},
   "source": [
    "**3d winds**"
   ]
  },
  {
   "cell_type": "code",
   "execution_count": 29,
   "metadata": {},
   "outputs": [],
   "source": [
    "v = dss[2].ua.sel(time=t6hr).sortby('lev').values\n",
    "da = DataArray(name='ua', data=float32(v))\n",
    "file_name = 'ua_' + file_time + '.nc'\n",
    "da.to_netcdf(im_path+file_name)"
   ]
  },
  {
   "cell_type": "code",
   "execution_count": 30,
   "metadata": {
    "scrolled": false
   },
   "outputs": [],
   "source": [
    "v = dss[3].va.sel(time=t6hr).sortby('lev').values\n",
    "da = DataArray(name='va', data=float32(v))\n",
    "file_name = 'va_' + file_time + '.nc'\n",
    "da.to_netcdf(im_path+file_name)"
   ]
  },
  {
   "cell_type": "markdown",
   "metadata": {},
   "source": [
    "**3d virtual temperature**"
   ]
  },
  {
   "cell_type": "code",
   "execution_count": 31,
   "metadata": {
    "scrolled": true
   },
   "outputs": [],
   "source": [
    "t = dss[0].ta.sel(time=t6hr).values\n",
    "q = dss[1].hus.sel(time=t6hr).sortby('lev').values\n",
    "tv = t*(1.+q*0.61)\n",
    "da = DataArray(name='tv', data=float32(tv))\n",
    "file_name = 'tv_' + file_time + '.nc'\n",
    "da.to_netcdf(im_path+file_name)"
   ]
  },
  {
   "cell_type": "markdown",
   "metadata": {},
   "source": [
    "**skin temperature**"
   ]
  },
  {
   "cell_type": "code",
   "execution_count": 32,
   "metadata": {
    "scrolled": true
   },
   "outputs": [],
   "source": [
    "v = dss[7].ts.sel(time=tmon).values\n",
    "da = DataArray(name='ts', data=float32(v))\n",
    "file_name = 'ts_' + file_time + '.nc'\n",
    "da.to_netcdf(im_path+file_name)"
   ]
  },
  {
   "cell_type": "markdown",
   "metadata": {},
   "source": [
    "**sea surface temperature**"
   ]
  },
  {
   "cell_type": "code",
   "execution_count": 60,
   "metadata": {
    "scrolled": true
   },
   "outputs": [],
   "source": [
    "ds = dss[4].tos.sel(time=tday)\n",
    "x = ds.lon.values.flatten()\n",
    "y = ds.lat.values.flatten()\n",
    "xy = stack((x, y), axis=-1)\n",
    "v = ds.values.flatten() + 273.15"
   ]
  },
  {
   "cell_type": "code",
   "execution_count": 56,
   "metadata": {},
   "outputs": [],
   "source": [
    "lon1d = dss[0].lon.values\n",
    "lat1d = dss[0].lat.values\n",
    "nx = len(lon1d)\n",
    "ny = len(lat1d)\n",
    "lon2d = repeat(lon1d, ny).reshape(nx, ny).transpose()\n",
    "lat2d = repeat(lat1d, nx).reshape(ny, nx)"
   ]
  },
  {
   "cell_type": "code",
   "execution_count": 57,
   "metadata": {},
   "outputs": [],
   "source": [
    "vi = griddata(xy, v, (lon2d, lat2d), method='linear')\n",
    "da = DataArray(name='sst', data=float32(vi))\n",
    "daf = da.fillna(0.)\n",
    "file_name = 'sst_' + file_time + '.nc'\n",
    "daf.to_netcdf(im_path+file_name)"
   ]
  },
  {
   "cell_type": "markdown",
   "metadata": {},
   "source": [
    "**sea ice concentration**"
   ]
  },
  {
   "cell_type": "code",
   "execution_count": 38,
   "metadata": {},
   "outputs": [],
   "source": [
    "ds = dss[5].siconc.sel(time=tday)\n",
    "v = da.values.flatten()*0.01\n",
    "vi = griddata(xy, v, (lon2d, lat2d), method='linear')\n",
    "da = DataArray(name='sic', data=float32(vi))\n",
    "daf = da.fillna(0.)\n",
    "file_name = 'sic_' + file_time + '.nc'\n",
    "daf.to_netcdf(im_path+file_name)"
   ]
  },
  {
   "cell_type": "markdown",
   "metadata": {},
   "source": [
    "**surface snow amount**"
   ]
  },
  {
   "cell_type": "code",
   "execution_count": 40,
   "metadata": {},
   "outputs": [],
   "source": [
    "v = dss[6].snw.sel(time=tday).values\n",
    "da = DataArray(name='snw', data=float32(v))\n",
    "daf = da.fillna(0.)\n",
    "file_name = 'snw_' + file_time + '.nc'\n",
    "daf.to_netcdf(im_path+file_name)"
   ]
  },
  {
   "cell_type": "markdown",
   "metadata": {},
   "source": [
    "**soil moisture**"
   ]
  },
  {
   "cell_type": "code",
   "execution_count": 41,
   "metadata": {},
   "outputs": [],
   "source": [
    "ds = dss[9].sel(time=tera)\n",
    "ss = ['swvl1', 'swvl2', 'swvl3', 'swvl4']"
   ]
  },
  {
   "cell_type": "code",
   "execution_count": 42,
   "metadata": {},
   "outputs": [],
   "source": [
    "for s in ss:\n",
    "    v = ds[s].interp(longitude=lon1d, latitude=lat1d).values\n",
    "    da = DataArray(name=s, data=float32(v))\n",
    "    daf = da.fillna(0.)\n",
    "    file_name = s + '_' + file_time + '.nc'\n",
    "    daf.to_netcdf(im_path+file_name)"
   ]
  },
  {
   "cell_type": "code",
   "execution_count": 43,
   "metadata": {},
   "outputs": [
    {
     "data": {
      "text/plain": [
       "<matplotlib.collections.QuadMesh at 0x2b22f70db0d0>"
      ]
     },
     "execution_count": 43,
     "metadata": {},
     "output_type": "execute_result"
    },
    {
     "data": {
      "image/png": "[encoded data removed]",
      "text/plain": [
       "<Figure size 432x288 with 2 Axes>"
      ]
     },
     "metadata": {
      "needs_background": "light"
     },
     "output_type": "display_data"
    }
   ],
   "source": [
    "daf.plot()"
   ]
  },
  {
   "cell_type": "markdown",
   "metadata": {},
   "source": [
    "**soil temperature**"
   ]
  },
  {
   "cell_type": "code",
   "execution_count": null,
   "metadata": {},
   "outputs": [],
   "source": [
    "ds = dss[8].tsl.sel(time=tmon)\n",
    "ss = ['tsl0', 'tsl1', 'tsl2', 'tsl3']"
   ]
  },
  {
   "cell_type": "code",
   "execution_count": null,
   "metadata": {},
   "outputs": [],
   "source": [
    "for i in range(4):\n",
    "    v = ds.isel(depth=i).values\n",
    "    da = DataArray(name=ss[i], data=float32(v))\n",
    "    daf = da.fillna(0.)\n",
    "    file_name = ss[i] + '_' + file_time + '.nc'\n",
    "    daf.to_netcdf(im_path+file_name)"
   ]
  },
  {
   "cell_type": "code",
   "execution_count": null,
   "metadata": {},
   "outputs": [],
   "source": [
    "daf.plot()"
   ]
  },
  {
   "cell_type": "code",
   "execution_count": null,
   "metadata": {},
   "outputs": [],
   "source": [
    "#chdir(os_path)"
   ]
  },
  {
   "cell_type": "code",
   "execution_count": null,
   "metadata": {},
   "outputs": [],
   "source": [
    "#command = 'ncl write_im.ncl ' + \"'file_time=\" + '\"' + file_time + '\"' + \"'\""
   ]
  },
  {
   "cell_type": "code",
   "execution_count": null,
   "metadata": {},
   "outputs": [],
   "source": [
    "#system(command)"
   ]
  }
 ],
 "metadata": {
  "kernelspec": {
   "display_name": "Python 3",
   "language": "python",
   "name": "python3"
  },
  "language_info": {
   "codemirror_mode": {
    "name": "ipython",
    "version": 3
   },
   "file_extension": ".py",
   "mimetype": "text/x-python",
   "name": "python",
   "nbconvert_exporter": "python",
   "pygments_lexer": "ipython3",
   "version": "3.7.6"
  }
 },
 "nbformat": 4,
 "nbformat_minor": 4
}
