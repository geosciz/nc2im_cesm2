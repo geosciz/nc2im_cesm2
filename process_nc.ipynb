{
 "cells": [
  {
   "cell_type": "code",
   "execution_count": 38,
   "metadata": {},
   "outputs": [],
   "source": [
    "from cftime import DatetimeNoLeap\n",
    "from datetime import timedelta\n",
    "from numpy import datetime64, empty, full, repeat, stack\n",
    "from os import chdir, system\n",
    "from scipy.interpolate import griddata\n",
    "from xarray import DataArray, open_dataset"
   ]
  },
  {
   "cell_type": "markdown",
   "metadata": {},
   "source": [
    "**Data**"
   ]
  },
  {
   "cell_type": "code",
   "execution_count": 2,
   "metadata": {},
   "outputs": [],
   "source": [
    "nc_path = '/home/zhangc/scenariomip_cmip6/nc_data/'\n",
    "im_path = '/home/zhangc/scenariomip_cmip6/im_data/'\n",
    "os_path = '/home/zhangc/repositories/nc2im_cesm2/'"
   ]
  },
  {
   "cell_type": "code",
   "execution_count": 3,
   "metadata": {},
   "outputs": [],
   "source": [
    "nc_con = ['fracdata_0.9x1.25_gx1v6_c090317.nc',\n",
    "          'USGS-gtopo30_0.9x1.25_remap_c051027.nc']"
   ]
  },
  {
   "cell_type": "code",
   "execution_count": 4,
   "metadata": {},
   "outputs": [],
   "source": [
    "nc_lev = ['ta_6hrLev_CESM2_ssp245_r2i1p1f1_gn_201501010000-202412311800.nc',\n",
    "          'hus_6hrLev_CESM2_ssp245_r2i1p1f1_gn_201501010000-202412311800.nc',\n",
    "          'ua_6hrLev_CESM2_ssp245_r2i1p1f1_gn_201501010000-202412311800.nc',\n",
    "          'va_6hrLev_CESM2_ssp245_r2i1p1f1_gn_201501010000-202412311800.nc']"
   ]
  },
  {
   "cell_type": "code",
   "execution_count": 5,
   "metadata": {},
   "outputs": [],
   "source": [
    "nc_6hr = ['ps_6hrLev_CESM2_ssp245_r2i1p1f1_gn_201501010000-202412311800.nc']"
   ]
  },
  {
   "cell_type": "code",
   "execution_count": 6,
   "metadata": {},
   "outputs": [],
   "source": [
    "nc_day = ['tos_Oday_CESM2_ssp245_r2i1p1f1_gn_20150102-20650101.nc',\n",
    "          'siconc_SIday_CESM2_ssp245_r2i1p1f1_gn_20150102-20650101.nc']"
   ]
  },
  {
   "cell_type": "code",
   "execution_count": 7,
   "metadata": {},
   "outputs": [],
   "source": [
    "nc_mon = ['ts_Amon_CESM2_ssp245_r2i1p1f1_gn_201501-206412.nc']"
   ]
  },
  {
   "cell_type": "code",
   "execution_count": 8,
   "metadata": {},
   "outputs": [],
   "source": [
    "nc_era = ['soil_mon_ERA5_2015.nc']"
   ]
  },
  {
   "cell_type": "code",
   "execution_count": 9,
   "metadata": {},
   "outputs": [],
   "source": [
    "chdir(nc_path)"
   ]
  },
  {
   "cell_type": "markdown",
   "metadata": {},
   "source": [
    "**Time**"
   ]
  },
  {
   "cell_type": "code",
   "execution_count": 40,
   "metadata": {},
   "outputs": [],
   "source": [
    "start_year = 2015\n",
    "start_month = 1\n",
    "start_day = 1\n",
    "end_year = 2016\n",
    "end_month = 1\n",
    "end_day = 1"
   ]
  },
  {
   "cell_type": "code",
   "execution_count": 43,
   "metadata": {},
   "outputs": [],
   "source": [
    "start_date = DatetimeNoLeap(start_year, start_month, start_day)\n",
    "end_date = DatetimeNoLeap(end_year, end_month, end_day)"
   ]
  },
  {
   "cell_type": "code",
   "execution_count": 68,
   "metadata": {},
   "outputs": [],
   "source": [
    "dates = []"
   ]
  },
  {
   "cell_type": "code",
   "execution_count": 69,
   "metadata": {},
   "outputs": [],
   "source": [
    "date = start_date"
   ]
  },
  {
   "cell_type": "code",
   "execution_count": 70,
   "metadata": {},
   "outputs": [],
   "source": [
    "while date <  end_date:\n",
    "    dates.append(date)\n",
    "    date += timedelta(days=1)"
   ]
  },
  {
   "cell_type": "code",
   "execution_count": 10,
   "metadata": {},
   "outputs": [],
   "source": [
    "tnum = 2015, 1, 1\n",
    "t6hr = DatetimeNoLeap(tnum[0], tnum[1], tnum[2])\n",
    "tday = t6hr + timedelta(days=1)\n",
    "tmon = DatetimeNoLeap(tnum[0], tnum[1], 15, 12)\n",
    "tera = datetime64('2015-'+str(tnum[1]).zfill(2)+'-01')\n",
    "file_time = str(t6hr).replace(' ', '_')"
   ]
  },
  {
   "cell_type": "markdown",
   "metadata": {},
   "source": [
    "**Constant**"
   ]
  },
  {
   "cell_type": "code",
   "execution_count": 11,
   "metadata": {},
   "outputs": [],
   "source": [
    "ds = open_dataset(nc_con[0])\n",
    "da = ds.LANDMASK*1.0\n",
    "file_name = 'ls_' + file_time + '.nc'\n",
    "da.to_netcdf(im_path+file_name)"
   ]
  },
  {
   "cell_type": "code",
   "execution_count": 12,
   "metadata": {},
   "outputs": [],
   "source": [
    "ds = open_dataset(nc_con[1])\n",
    "da = ds.PHIS/9.81\n",
    "file_name = 'sh_' + file_time + '.nc'\n",
    "da.to_netcdf(im_path+file_name)"
   ]
  },
  {
   "cell_type": "markdown",
   "metadata": {},
   "source": [
    "**Level**"
   ]
  },
  {
   "cell_type": "code",
   "execution_count": 13,
   "metadata": {},
   "outputs": [],
   "source": [
    "das = []"
   ]
  },
  {
   "cell_type": "code",
   "execution_count": 14,
   "metadata": {
    "scrolled": false
   },
   "outputs": [
    {
     "name": "stderr",
     "output_type": "stream",
     "text": [
      "/home/zhangc/miniconda3/envs/python3/lib/python3.7/site-packages/xarray/conventions.py:494: SerializationWarning: variable 'ta' has multiple fill values {1e+20, 1e+20}, decoding all values to NaN.\n",
      "  use_cftime=use_cftime,\n",
      "/home/zhangc/miniconda3/envs/python3/lib/python3.7/site-packages/xarray/conventions.py:494: SerializationWarning: variable 'hus' has multiple fill values {1e+20, 1e+20}, decoding all values to NaN.\n",
      "  use_cftime=use_cftime,\n",
      "/home/zhangc/miniconda3/envs/python3/lib/python3.7/site-packages/xarray/conventions.py:494: SerializationWarning: variable 'ua' has multiple fill values {1e+20, 1e+20}, decoding all values to NaN.\n",
      "  use_cftime=use_cftime,\n",
      "/home/zhangc/miniconda3/envs/python3/lib/python3.7/site-packages/xarray/conventions.py:494: SerializationWarning: variable 'va' has multiple fill values {1e+20, 1e+20}, decoding all values to NaN.\n",
      "  use_cftime=use_cftime,\n"
     ]
    }
   ],
   "source": [
    "for nc in nc_lev:\n",
    "    ds = open_dataset(nc).sel(time=t6hr).sortby('lev')\n",
    "    vi = ds.variable_id\n",
    "    da = ds[vi]\n",
    "    das.append(da)\n",
    "    file_name = vi + '_' + file_time + '.nc'\n",
    "    da.to_netcdf(im_path+file_name)"
   ]
  },
  {
   "cell_type": "markdown",
   "metadata": {},
   "source": [
    "**6 Hourly**"
   ]
  },
  {
   "cell_type": "code",
   "execution_count": 15,
   "metadata": {},
   "outputs": [
    {
     "name": "stderr",
     "output_type": "stream",
     "text": [
      "/home/zhangc/miniconda3/envs/python3/lib/python3.7/site-packages/xarray/conventions.py:494: SerializationWarning: variable 'ps' has multiple fill values {1e+20, 1e+20}, decoding all values to NaN.\n",
      "  use_cftime=use_cftime,\n"
     ]
    }
   ],
   "source": [
    "ds = open_dataset(nc_6hr[0]).sel(time=t6hr)\n",
    "da = ds['ps']\n",
    "file_name = 'ps_' + file_time + '.nc'\n",
    "da.to_netcdf(im_path+file_name)"
   ]
  },
  {
   "cell_type": "markdown",
   "metadata": {},
   "source": [
    "**3D Geopotential Heights** Virtual Temperature"
   ]
  },
  {
   "cell_type": "code",
   "execution_count": 16,
   "metadata": {},
   "outputs": [],
   "source": [
    "t = das[0].sortby('lev').values\n",
    "q = das[1].sortby('lev').values\n",
    "tv = t*(1.+q*0.61)"
   ]
  },
  {
   "cell_type": "code",
   "execution_count": 17,
   "metadata": {},
   "outputs": [],
   "source": [
    "lev = -das[0].sortby('lev').lev.values\n",
    "lat = das[0].lat.values\n",
    "lon = das[0].lon.values"
   ]
  },
  {
   "cell_type": "code",
   "execution_count": 18,
   "metadata": {
    "scrolled": true
   },
   "outputs": [],
   "source": [
    "da = DataArray(name='tv', data=tv, coords=[lev, lat, lon], dims=['lev', 'lat', 'lon']).transpose('lat', 'lon', 'lev')\n",
    "file_name = 'tv_' + file_time + '.nc'\n",
    "da.to_netcdf(im_path+file_name)"
   ]
  },
  {
   "cell_type": "markdown",
   "metadata": {},
   "source": [
    "**3D Geopotential Heights** Pressure"
   ]
  },
  {
   "cell_type": "code",
   "execution_count": 19,
   "metadata": {},
   "outputs": [],
   "source": [
    "shape = das[0].shape\n",
    "p3 = empty(shape)\n",
    "for i in range(len(lev)):\n",
    "    p3[i] = full(shape[1:3], lev[i])"
   ]
  },
  {
   "cell_type": "code",
   "execution_count": 20,
   "metadata": {},
   "outputs": [],
   "source": [
    "da = DataArray(name='p3', data=p3, coords=[lev, lat, lon], dims=['lev', 'lat', 'lon']).transpose('lat', 'lon', 'lev')\n",
    "file_name = 'p3_' + file_time + '.nc'\n",
    "da.to_netcdf(im_path+file_name)"
   ]
  },
  {
   "cell_type": "markdown",
   "metadata": {},
   "source": [
    "**Surface Variables**"
   ]
  },
  {
   "cell_type": "code",
   "execution_count": 21,
   "metadata": {},
   "outputs": [],
   "source": [
    "vis = ['t2', 'q2', 'u2', 'v2']"
   ]
  },
  {
   "cell_type": "code",
   "execution_count": 22,
   "metadata": {},
   "outputs": [],
   "source": [
    "for i in range(4):\n",
    "    da = das[i].isel(lev=-1)\n",
    "    file_name = vis[i] + '_' + file_time + '.nc'\n",
    "    da.to_netcdf(im_path+file_name)"
   ]
  },
  {
   "cell_type": "code",
   "execution_count": 23,
   "metadata": {
    "scrolled": true
   },
   "outputs": [
    {
     "name": "stderr",
     "output_type": "stream",
     "text": [
      "/home/zhangc/miniconda3/envs/python3/lib/python3.7/site-packages/xarray/conventions.py:494: SerializationWarning: variable 'ts' has multiple fill values {1e+20, 1e+20}, decoding all values to NaN.\n",
      "  use_cftime=use_cftime,\n"
     ]
    }
   ],
   "source": [
    "for nc in nc_mon:\n",
    "    ds = open_dataset(nc).sel(time=tmon)\n",
    "    vi = ds.variable_id\n",
    "    da = ds[vi]\n",
    "    file_name = vi + '_' + file_time + '.nc'\n",
    "    da.to_netcdf(im_path+file_name)"
   ]
  },
  {
   "cell_type": "code",
   "execution_count": 24,
   "metadata": {},
   "outputs": [],
   "source": [
    "da = das[0].isel(lev=-1)\n",
    "lev = da.lev.values*-100\n",
    "lon = da.lon.values\n",
    "lat = da.lat.values\n",
    "values = full(da.shape, lev)\n",
    "da = DataArray(name='p2', data=values, coords=[lat, lon], dims=['lat', 'lon'])\n",
    "file_name = 'p2_' + file_time + '.nc'\n",
    "da.to_netcdf(im_path+file_name)"
   ]
  },
  {
   "cell_type": "markdown",
   "metadata": {},
   "source": [
    "**Sea Surface Temperature**"
   ]
  },
  {
   "cell_type": "code",
   "execution_count": 25,
   "metadata": {
    "scrolled": true
   },
   "outputs": [
    {
     "name": "stderr",
     "output_type": "stream",
     "text": [
      "/home/zhangc/miniconda3/envs/python3/lib/python3.7/site-packages/xarray/conventions.py:494: SerializationWarning: variable 'tos' has multiple fill values {1e+20, 1e+20}, decoding all values to NaN.\n",
      "  use_cftime=use_cftime,\n"
     ]
    }
   ],
   "source": [
    "ds = open_dataset(nc_day[0])\n",
    "da = ds.tos.sel(time=tday)\n",
    "x = da.lon.values.flatten()\n",
    "y = da.lat.values.flatten()\n",
    "xy = stack((x, y), axis=-1)\n",
    "v = da.values.flatten()"
   ]
  },
  {
   "cell_type": "code",
   "execution_count": 26,
   "metadata": {},
   "outputs": [],
   "source": [
    "ds = open_dataset(nc_lev[0])\n",
    "lon1d = ds.lon.values\n",
    "lat1d = ds.lat.values\n",
    "nx = len(lon1d)\n",
    "ny = len(lat1d)\n",
    "lon2d = repeat(lon1d, ny).reshape(nx, ny).transpose()\n",
    "lat2d = repeat(lat1d, nx).reshape(ny, nx)"
   ]
  },
  {
   "cell_type": "code",
   "execution_count": 27,
   "metadata": {},
   "outputs": [],
   "source": [
    "vi = griddata(xy, v, (lon2d, lat2d), method='linear')\n",
    "da = DataArray(data=vi, coords=[lat1d, lon1d], dims=['lat', 'lon'])\n",
    "file_name = 'sst_' + file_time + '.nc'\n",
    "da.to_netcdf(im_path+file_name)"
   ]
  },
  {
   "cell_type": "markdown",
   "metadata": {},
   "source": [
    "**Sea Ice Concentration**"
   ]
  },
  {
   "cell_type": "code",
   "execution_count": 28,
   "metadata": {},
   "outputs": [
    {
     "name": "stderr",
     "output_type": "stream",
     "text": [
      "/home/zhangc/miniconda3/envs/python3/lib/python3.7/site-packages/xarray/conventions.py:494: SerializationWarning: variable 'siconc' has multiple fill values {1e+20, 1e+20}, decoding all values to NaN.\n",
      "  use_cftime=use_cftime,\n"
     ]
    }
   ],
   "source": [
    "ds = open_dataset(nc_day[1])\n",
    "da = ds.siconc.sel(time=tday)\n",
    "v = da.values.flatten()"
   ]
  },
  {
   "cell_type": "code",
   "execution_count": 29,
   "metadata": {},
   "outputs": [],
   "source": [
    "vi = griddata(xy, v, (lon2d, lat2d), method='linear')\n",
    "da = DataArray(data=vi, coords=[lat1d, lon1d], dims=['lat', 'lon'])\n",
    "file_name = 'sic_' + file_time + '.nc'\n",
    "da.to_netcdf(im_path+file_name)"
   ]
  },
  {
   "cell_type": "markdown",
   "metadata": {},
   "source": [
    "**Soil Moisture**"
   ]
  },
  {
   "cell_type": "code",
   "execution_count": 30,
   "metadata": {},
   "outputs": [],
   "source": [
    "ds = open_dataset(nc_era[0]).sel(time=tera)"
   ]
  },
  {
   "cell_type": "code",
   "execution_count": 31,
   "metadata": {},
   "outputs": [],
   "source": [
    "vis = ['swvl1', 'swvl2', 'swvl3', 'swvl4']"
   ]
  },
  {
   "cell_type": "code",
   "execution_count": 32,
   "metadata": {},
   "outputs": [],
   "source": [
    "for vi in vis:\n",
    "    da = ds[vi].interp(longitude=lon1d, latitude=lat1d)\n",
    "    file_name = vi + '_' + file_time + '.nc'\n",
    "    da.to_netcdf(im_path+file_name)"
   ]
  },
  {
   "cell_type": "markdown",
   "metadata": {},
   "source": [
    "**Soil Temperature**"
   ]
  },
  {
   "cell_type": "code",
   "execution_count": 33,
   "metadata": {},
   "outputs": [],
   "source": [
    "vis = ['stl1', 'stl2', 'stl3', 'stl4']"
   ]
  },
  {
   "cell_type": "code",
   "execution_count": 34,
   "metadata": {},
   "outputs": [],
   "source": [
    "for vi in vis:\n",
    "    da = ds[vi].interp(longitude=lon1d, latitude=lat1d)\n",
    "    file_name = vi + '_' + file_time + '.nc'\n",
    "    da.to_netcdf(im_path+file_name)"
   ]
  },
  {
   "cell_type": "code",
   "execution_count": 35,
   "metadata": {},
   "outputs": [],
   "source": [
    "#chdir(os_path)"
   ]
  },
  {
   "cell_type": "code",
   "execution_count": 36,
   "metadata": {},
   "outputs": [],
   "source": [
    "#command = 'ncl convert_nc_to_im.ncl ' + \"'file_time=\" + '\"' + file_time + '\"' + \"'\""
   ]
  },
  {
   "cell_type": "code",
   "execution_count": 37,
   "metadata": {},
   "outputs": [],
   "source": [
    "#system(command)"
   ]
  }
 ],
 "metadata": {
  "kernelspec": {
   "display_name": "Python 3",
   "language": "python",
   "name": "python3"
  },
  "language_info": {
   "codemirror_mode": {
    "name": "ipython",
    "version": 3
   },
   "file_extension": ".py",
   "mimetype": "text/x-python",
   "name": "python",
   "nbconvert_exporter": "python",
   "pygments_lexer": "ipython3",
   "version": "3.7.6"
  }
 },
 "nbformat": 4,
 "nbformat_minor": 4
}
