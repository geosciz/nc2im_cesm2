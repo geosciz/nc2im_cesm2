{
 "cells": [
  {
   "cell_type": "code",
   "execution_count": 38,
   "metadata": {},
   "outputs": [],
   "source": [
    "from cftime import DatetimeNoLeap\n",
    "from datetime import timedelta\n",
    "from numpy import datetime64, empty, full, repeat, stack\n",
    "from os import chdir, system\n",
    "from scipy.interpolate import griddata\n",
    "from xarray import DataArray, open_dataset"
   ]
  },
  {
   "cell_type": "markdown",
   "metadata": {},
   "source": [
    "**Data**"
   ]
  },
  {
   "cell_type": "code",
   "execution_count": 2,
   "metadata": {},
   "outputs": [],
   "source": [
    "nc_path = '/home/zhangc/scenariomip_cmip6/nc_data/'\n",
    "im_path = '/home/zhangc/scenariomip_cmip6/im_data/'\n",
    "os_path = '/home/zhangc/repositories/nc2im_cesm2/'"
   ]
  },
  {
   "cell_type": "code",
   "execution_count": 3,
   "metadata": {},
   "outputs": [],
   "source": [
    "nc_con = ['fracdata_0.9x1.25_gx1v6_c090317.nc',\n",
    "          'USGS-gtopo30_0.9x1.25_remap_c051027.nc']"
   ]
  },
  {
   "cell_type": "code",
   "execution_count": 4,
   "metadata": {},
   "outputs": [],
   "source": [
    "nc_lev = ['ta_6hrLev_CESM2_ssp245_r2i1p1f1_gn_201501010000-202412311800.nc',\n",
    "          'hus_6hrLev_CESM2_ssp245_r2i1p1f1_gn_201501010000-202412311800.nc',\n",
    "          'ua_6hrLev_CESM2_ssp245_r2i1p1f1_gn_201501010000-202412311800.nc',\n",
    "          'va_6hrLev_CESM2_ssp245_r2i1p1f1_gn_201501010000-202412311800.nc']"
   ]
  },
  {
   "cell_type": "code",
   "execution_count": 5,
   "metadata": {},
   "outputs": [],
   "source": [
    "nc_6hr = ['ps_6hrLev_CESM2_ssp245_r2i1p1f1_gn_201501010000-202412311800.nc']"
   ]
  },
  {
   "cell_type": "code",
   "execution_count": 6,
   "metadata": {},
   "outputs": [],
   "source": [
    "nc_day = ['tos_Oday_CESM2_ssp245_r2i1p1f1_gn_20150102-20650101.nc',\n",
    "          'siconc_SIday_CESM2_ssp245_r2i1p1f1_gn_20150102-20650101.nc']"
   ]
  },
  {
   "cell_type": "code",
   "execution_count": 7,
   "metadata": {},
   "outputs": [],
   "source": [
    "nc_mon = ['ts_Amon_CESM2_ssp245_r2i1p1f1_gn_201501-206412.nc']"
   ]
  },
  {
   "cell_type": "code",
   "execution_count": 8,
   "metadata": {},
   "outputs": [],
   "source": [
    "nc_era = ['soil_mon_ERA5_2015.nc']"
   ]
  },
  {
   "cell_type": "code",
   "execution_count": 9,
   "metadata": {},
   "outputs": [],
   "source": [
    "chdir(nc_path)"
   ]
  },
  {
   "cell_type": "markdown",
   "metadata": {},
   "source": [
    "**Time**"
   ]
  },
  {
   "cell_type": "code",
   "execution_count": 40,
   "metadata": {},
   "outputs": [],
   "source": [
    "start_year = 2015\n",
    "start_month = 1\n",
    "start_day = 1\n",
    "end_year = 2016\n",
    "end_month = 1\n",
    "end_day = 1"
   ]
  },
  {
   "cell_type": "code",
   "execution_count": 43,
   "metadata": {},
   "outputs": [],
   "source": [
    "start_date = DatetimeNoLeap(start_year, start_month, start_day)\n",
    "end_date = DatetimeNoLeap(end_year, end_month, end_day)"
   ]
  },
  {
   "cell_type": "code",
   "execution_count": 68,
   "metadata": {},
   "outputs": [],
   "source": [
    "dates = []"
   ]
  },
  {
   "cell_type": "code",
   "execution_count": 69,
   "metadata": {},
   "outputs": [],
   "source": [
    "date = start_date"
   ]
  },
  {
   "cell_type": "code",
   "execution_count": 70,
   "metadata": {},
   "outputs": [],
   "source": [
    "while date <  end_date:\n",
    "    dates.append(date)\n",
    "    date += timedelta(days=1)"
   ]
  },
  {
   "cell_type": "code",
   "execution_count": 10,
   "metadata": {},
   "outputs": [],
   "source": [
    "tnum = 2015, 1, 1\n",
    "t6hr = DatetimeNoLeap(tnum[0], tnum[1], tnum[2])\n",
    "tday = t6hr + timedelta(days=1)\n",
    "tmon = DatetimeNoLeap(tnum[0], tnum[1], 15, 12)\n",
    "tera = datetime64('2015-'+str(tnum[1]).zfill(2)+'-01')\n",
    "file_time = str(t6hr).replace(' ', '_')"
   ]
  },
  {
   "cell_type": "markdown",
   "metadata": {},
   "source": [
    "**Constant**"
   ]
  },
  {
   "cell_type": "code",
   "execution_count": 11,
   "metadata": {},
   "outputs": [],
   "source": [
    "ds = open_dataset(nc_con[0])\n",
    "da = ds.LANDMASK*1.0\n",
    "file_name = 'ls_' + file_time + '.nc'\n",
    "da.to_netcdf(im_path+file_name)"
   ]
  },
  {
   "cell_type": "code",
   "execution_count": 12,
   "metadata": {},
   "outputs": [],
   "source": [
    "ds = open_dataset(nc_con[1])\n",
    "da = ds.PHIS/9.81\n",
    "file_name = 'sh_' + file_time + '.nc'\n",
    "da.to_netcdf(im_path+file_name)"
   ]
  },
  {
   "cell_type": "markdown",
   "metadata": {},
   "source": [
    "**Level**"
   ]
  },
  {
   "cell_type": "code",
   "execution_count": 13,
   "metadata": {},
   "outputs": [],
   "source": [
    "das = []"
   ]
  },
  {
   "cell_type": "code",
   "execution_count": 14,
   "metadata": {
    "scrolled": false
   },
   "outputs": [
    {
     "name": "stderr",
     "output_type": "stream",
     "text": [
      "/home/zhangc/miniconda3/envs/python3/lib/python3.7/site-packages/xarray/conventions.py:494: SerializationWarning: variable 'ta' has multiple fill values {1e+20, 1e+20}, decoding all values to NaN.\n",
      "  use_cftime=use_cftime,\n",
      "/home/zhangc/miniconda3/envs/python3/lib/python3.7/site-packages/xarray/conventions.py:494: SerializationWarning: variable 'hus' has multiple fill values {1e+20, 1e+20}, decoding all values to NaN.\n",
      "  use_cftime=use_cftime,\n",
      "/home/zhangc/miniconda3/envs/python3/lib/python3.7/site-packages/xarray/conventions.py:494: SerializationWarning: variable 'ua' has multiple fill values {1e+20, 1e+20}, decoding all values to NaN.\n",
      "  use_cftime=use_cftime,\n",
      "/home/zhangc/miniconda3/envs/python3/lib/python3.7/site-packages/xarray/conventions.py:494: SerializationWarning: variable 'va' has multiple fill values {1e+20, 1e+20}, decoding all values to NaN.\n",
      "  use_cftime=use_cftime,\n"
     ]
    }
   ],
   "source": [
    "for nc in nc_lev:\n",
    "    ds = open_dataset(nc).sel(time=t6hr).sortby('lev')\n",
    "    vi = ds.variable_id\n",
    "    da = ds[vi]\n",
    "    das.append(da)\n",
    "    file_name = vi + '_' + file_time + '.nc'\n",
    "    da.to_netcdf(im_path+file_name)"
   ]
  },
  {
   "cell_type": "markdown",
   "metadata": {},
   "source": [
    "**6 Hourly**"
   ]
  },
  {
   "cell_type": "code",
   "execution_count": 15,
   "metadata": {},
   "outputs": [
    {
     "name": "stderr",
     "output_type": "stream",
     "text": [
      "/home/zhangc/miniconda3/envs/python3/lib/python3.7/site-packages/xarray/conventions.py:494: SerializationWarning: variable 'ps' has multiple fill values {1e+20, 1e+20}, decoding all values to NaN.\n",
      "  use_cftime=use_cftime,\n"
     ]
    }
   ],
   "source": [
    "ds = open_dataset(nc_6hr[0]).sel(time=t6hr)\n",
    "da = ds['ps']\n",
    "file_name = 'ps_' + file_time + '.nc'\n",
    "da.to_netcdf(im_path+file_name)"
   ]
  },
  {
   "cell_type": "markdown",
   "metadata": {},
   "source": [
    "**3D Geopotential Heights** Virtual Temperature"
   ]
  },
  {
   "cell_type": "code",
   "execution_count": 16,
   "metadata": {},
   "outputs": [],
   "source": [
    "t = das[0].sortby('lev').values\n",
    "q = das[1].sortby('lev').values\n",
    "tv = t*(1.+q*0.61)"
   ]
  },
  {
   "cell_type": "code",
   "execution_count": 17,
   "metadata": {},
   "outputs": [],
   "source": [
    "lev = -das[0].sortby('lev').lev.values\n",
    "lat = das[0].lat.values\n",
    "lon = das[0].lon.values"
   ]
  },
  {
   "cell_type": "code",
   "execution_count": 18,
   "metadata": {
    "scrolled": true
   },
   "outputs": [],
   "source": [
    "da = DataArray(name='tv', data=tv, coords=[lev, lat, lon], dims=['lev', 'lat', 'lon']).transpose('lat', 'lon', 'lev')\n",
    "file_name = 'tv_' + file_time + '.nc'\n",
    "da.to_netcdf(im_path+file_name)"
   ]
  },
  {
   "cell_type": "markdown",
   "metadata": {},
   "source": [
    "**3D Geopotential Heights** Pressure"
   ]
  },
  {
   "cell_type": "code",
   "execution_count": 19,
   "metadata": {},
   "outputs": [],
   "source": [
    "shape = das[0].shape\n",
    "p3 = empty(shape)\n",
    "for i in range(len(lev)):\n",
    "    p3[i] = full(shape[1:3], lev[i])"
   ]
  },
  {
   "cell_type": "code",
   "execution_count": 20,
   "metadata": {},
   "outputs": [],
   "source": [
    "da = DataArray(name='p3', data=p3, coords=[lev, lat, lon], dims=['lev', 'lat', 'lon']).transpose('lat', 'lon', 'lev')\n",
    "file_name = 'p3_' + file_time + '.nc'\n",
    "da.to_netcdf(im_path+file_name)"
   ]
  },
  {
   "cell_type": "markdown",
   "metadata": {},
   "source": [
    "**Surface Variables**"
   ]
  },
  {
   "cell_type": "code",
   "execution_count": 21,
   "metadata": {},
   "outputs": [],
   "source": [
    "vis = ['t2', 'q2', 'u2', 'v2']"
   ]
  },
  {
   "cell_type": "code",
   "execution_count": 22,
   "metadata": {},
   "outputs": [],
   "source": [
    "for i in range(4):\n",
    "    da = das[i].isel(lev=-1)\n",
    "    file_name = vis[i] + '_' + file_time + '.nc'\n",
    "    da.to_netcdf(im_path+file_name)"
   ]
  },
  {
   "cell_type": "code",
   "execution_count": 72,
   "metadata": {
    "scrolled": true
   },
   "outputs": [
    {
     "name": "stderr",
     "output_type": "stream",
     "text": [
      "/home/zhangc/miniconda3/envs/python3/lib/python3.7/site-packages/xarray/conventions.py:494: SerializationWarning: variable 'ts' has multiple fill values {1e+20, 1e+20}, decoding all values to NaN.\n",
      "  use_cftime=use_cftime,\n"
     ]
    }
   ],
   "source": [
    "for nc in nc_mon:\n",
    "    ds = open_dataset(nc).sel(time=tmon)\n",
    "    vi = ds.variable_id\n",
    "    da = ds[vi]\n",
    "    file_name = vi + '_' + file_time + '.nc'\n",
    "    da.to_netcdf(im_path+file_name)"
   ]
  },
  {
   "cell_type": "code",
   "execution_count": 74,
   "metadata": {},
   "outputs": [],
   "source": [
    "ds = open_dataset(nc)"
   ]
  },
  {
   "cell_type": "code",
   "execution_count": 77,
   "metadata": {},
   "outputs": [
    {
     "data": {
      "text/plain": [
       "array([cftime.DatetimeNoLeap(2015-01-15 12:00:00),\n",
       "       cftime.DatetimeNoLeap(2015-02-14 00:00:00),\n",
       "       cftime.DatetimeNoLeap(2015-03-15 12:00:00),\n",
       "       cftime.DatetimeNoLeap(2015-04-15 00:00:00),\n",
       "       cftime.DatetimeNoLeap(2015-05-15 12:00:00),\n",
       "       cftime.DatetimeNoLeap(2015-06-15 00:00:00),\n",
       "       cftime.DatetimeNoLeap(2015-07-15 12:00:00),\n",
       "       cftime.DatetimeNoLeap(2015-08-15 12:00:00),\n",
       "       cftime.DatetimeNoLeap(2015-09-15 00:00:00),\n",
       "       cftime.DatetimeNoLeap(2015-10-15 12:00:00),\n",
       "       cftime.DatetimeNoLeap(2015-11-15 00:00:00),\n",
       "       cftime.DatetimeNoLeap(2015-12-15 12:00:00),\n",
       "       cftime.DatetimeNoLeap(2016-01-15 12:00:00),\n",
       "       cftime.DatetimeNoLeap(2016-02-14 00:00:00),\n",
       "       cftime.DatetimeNoLeap(2016-03-15 12:00:00),\n",
       "       cftime.DatetimeNoLeap(2016-04-15 00:00:00),\n",
       "       cftime.DatetimeNoLeap(2016-05-15 12:00:00),\n",
       "       cftime.DatetimeNoLeap(2016-06-15 00:00:00),\n",
       "       cftime.DatetimeNoLeap(2016-07-15 12:00:00),\n",
       "       cftime.DatetimeNoLeap(2016-08-15 12:00:00),\n",
       "       cftime.DatetimeNoLeap(2016-09-15 00:00:00),\n",
       "       cftime.DatetimeNoLeap(2016-10-15 12:00:00),\n",
       "       cftime.DatetimeNoLeap(2016-11-15 00:00:00),\n",
       "       cftime.DatetimeNoLeap(2016-12-15 12:00:00),\n",
       "       cftime.DatetimeNoLeap(2017-01-15 12:00:00),\n",
       "       cftime.DatetimeNoLeap(2017-02-14 00:00:00),\n",
       "       cftime.DatetimeNoLeap(2017-03-15 12:00:00),\n",
       "       cftime.DatetimeNoLeap(2017-04-15 00:00:00),\n",
       "       cftime.DatetimeNoLeap(2017-05-15 12:00:00),\n",
       "       cftime.DatetimeNoLeap(2017-06-15 00:00:00),\n",
       "       cftime.DatetimeNoLeap(2017-07-15 12:00:00),\n",
       "       cftime.DatetimeNoLeap(2017-08-15 12:00:00),\n",
       "       cftime.DatetimeNoLeap(2017-09-15 00:00:00),\n",
       "       cftime.DatetimeNoLeap(2017-10-15 12:00:00),\n",
       "       cftime.DatetimeNoLeap(2017-11-15 00:00:00),\n",
       "       cftime.DatetimeNoLeap(2017-12-15 12:00:00),\n",
       "       cftime.DatetimeNoLeap(2018-01-15 12:00:00),\n",
       "       cftime.DatetimeNoLeap(2018-02-14 00:00:00),\n",
       "       cftime.DatetimeNoLeap(2018-03-15 12:00:00),\n",
       "       cftime.DatetimeNoLeap(2018-04-15 00:00:00),\n",
       "       cftime.DatetimeNoLeap(2018-05-15 12:00:00),\n",
       "       cftime.DatetimeNoLeap(2018-06-15 00:00:00),\n",
       "       cftime.DatetimeNoLeap(2018-07-15 12:00:00),\n",
       "       cftime.DatetimeNoLeap(2018-08-15 12:00:00),\n",
       "       cftime.DatetimeNoLeap(2018-09-15 00:00:00),\n",
       "       cftime.DatetimeNoLeap(2018-10-15 12:00:00),\n",
       "       cftime.DatetimeNoLeap(2018-11-15 00:00:00),\n",
       "       cftime.DatetimeNoLeap(2018-12-15 12:00:00),\n",
       "       cftime.DatetimeNoLeap(2019-01-15 12:00:00),\n",
       "       cftime.DatetimeNoLeap(2019-02-14 00:00:00),\n",
       "       cftime.DatetimeNoLeap(2019-03-15 12:00:00),\n",
       "       cftime.DatetimeNoLeap(2019-04-15 00:00:00),\n",
       "       cftime.DatetimeNoLeap(2019-05-15 12:00:00),\n",
       "       cftime.DatetimeNoLeap(2019-06-15 00:00:00),\n",
       "       cftime.DatetimeNoLeap(2019-07-15 12:00:00),\n",
       "       cftime.DatetimeNoLeap(2019-08-15 12:00:00),\n",
       "       cftime.DatetimeNoLeap(2019-09-15 00:00:00),\n",
       "       cftime.DatetimeNoLeap(2019-10-15 12:00:00),\n",
       "       cftime.DatetimeNoLeap(2019-11-15 00:00:00),\n",
       "       cftime.DatetimeNoLeap(2019-12-15 12:00:00),\n",
       "       cftime.DatetimeNoLeap(2020-01-15 12:00:00),\n",
       "       cftime.DatetimeNoLeap(2020-02-14 00:00:00),\n",
       "       cftime.DatetimeNoLeap(2020-03-15 12:00:00),\n",
       "       cftime.DatetimeNoLeap(2020-04-15 00:00:00),\n",
       "       cftime.DatetimeNoLeap(2020-05-15 12:00:00),\n",
       "       cftime.DatetimeNoLeap(2020-06-15 00:00:00),\n",
       "       cftime.DatetimeNoLeap(2020-07-15 12:00:00),\n",
       "       cftime.DatetimeNoLeap(2020-08-15 12:00:00),\n",
       "       cftime.DatetimeNoLeap(2020-09-15 00:00:00),\n",
       "       cftime.DatetimeNoLeap(2020-10-15 12:00:00),\n",
       "       cftime.DatetimeNoLeap(2020-11-15 00:00:00),\n",
       "       cftime.DatetimeNoLeap(2020-12-15 12:00:00),\n",
       "       cftime.DatetimeNoLeap(2021-01-15 12:00:00),\n",
       "       cftime.DatetimeNoLeap(2021-02-14 00:00:00),\n",
       "       cftime.DatetimeNoLeap(2021-03-15 12:00:00),\n",
       "       cftime.DatetimeNoLeap(2021-04-15 00:00:00),\n",
       "       cftime.DatetimeNoLeap(2021-05-15 12:00:00),\n",
       "       cftime.DatetimeNoLeap(2021-06-15 00:00:00),\n",
       "       cftime.DatetimeNoLeap(2021-07-15 12:00:00),\n",
       "       cftime.DatetimeNoLeap(2021-08-15 12:00:00),\n",
       "       cftime.DatetimeNoLeap(2021-09-15 00:00:00),\n",
       "       cftime.DatetimeNoLeap(2021-10-15 12:00:00),\n",
       "       cftime.DatetimeNoLeap(2021-11-15 00:00:00),\n",
       "       cftime.DatetimeNoLeap(2021-12-15 12:00:00),\n",
       "       cftime.DatetimeNoLeap(2022-01-15 12:00:00),\n",
       "       cftime.DatetimeNoLeap(2022-02-14 00:00:00),\n",
       "       cftime.DatetimeNoLeap(2022-03-15 12:00:00),\n",
       "       cftime.DatetimeNoLeap(2022-04-15 00:00:00),\n",
       "       cftime.DatetimeNoLeap(2022-05-15 12:00:00),\n",
       "       cftime.DatetimeNoLeap(2022-06-15 00:00:00),\n",
       "       cftime.DatetimeNoLeap(2022-07-15 12:00:00),\n",
       "       cftime.DatetimeNoLeap(2022-08-15 12:00:00),\n",
       "       cftime.DatetimeNoLeap(2022-09-15 00:00:00),\n",
       "       cftime.DatetimeNoLeap(2022-10-15 12:00:00),\n",
       "       cftime.DatetimeNoLeap(2022-11-15 00:00:00),\n",
       "       cftime.DatetimeNoLeap(2022-12-15 12:00:00),\n",
       "       cftime.DatetimeNoLeap(2023-01-15 12:00:00),\n",
       "       cftime.DatetimeNoLeap(2023-02-14 00:00:00),\n",
       "       cftime.DatetimeNoLeap(2023-03-15 12:00:00),\n",
       "       cftime.DatetimeNoLeap(2023-04-15 00:00:00),\n",
       "       cftime.DatetimeNoLeap(2023-05-15 12:00:00),\n",
       "       cftime.DatetimeNoLeap(2023-06-15 00:00:00),\n",
       "       cftime.DatetimeNoLeap(2023-07-15 12:00:00),\n",
       "       cftime.DatetimeNoLeap(2023-08-15 12:00:00),\n",
       "       cftime.DatetimeNoLeap(2023-09-15 00:00:00),\n",
       "       cftime.DatetimeNoLeap(2023-10-15 12:00:00),\n",
       "       cftime.DatetimeNoLeap(2023-11-15 00:00:00),\n",
       "       cftime.DatetimeNoLeap(2023-12-15 12:00:00),\n",
       "       cftime.DatetimeNoLeap(2024-01-15 12:00:00),\n",
       "       cftime.DatetimeNoLeap(2024-02-14 00:00:00),\n",
       "       cftime.DatetimeNoLeap(2024-03-15 12:00:00),\n",
       "       cftime.DatetimeNoLeap(2024-04-15 00:00:00),\n",
       "       cftime.DatetimeNoLeap(2024-05-15 12:00:00),\n",
       "       cftime.DatetimeNoLeap(2024-06-15 00:00:00),\n",
       "       cftime.DatetimeNoLeap(2024-07-15 12:00:00),\n",
       "       cftime.DatetimeNoLeap(2024-08-15 12:00:00),\n",
       "       cftime.DatetimeNoLeap(2024-09-15 00:00:00),\n",
       "       cftime.DatetimeNoLeap(2024-10-15 12:00:00),\n",
       "       cftime.DatetimeNoLeap(2024-11-15 00:00:00),\n",
       "       cftime.DatetimeNoLeap(2024-12-15 12:00:00),\n",
       "       cftime.DatetimeNoLeap(2025-01-15 12:00:00),\n",
       "       cftime.DatetimeNoLeap(2025-02-14 00:00:00),\n",
       "       cftime.DatetimeNoLeap(2025-03-15 12:00:00),\n",
       "       cftime.DatetimeNoLeap(2025-04-15 00:00:00),\n",
       "       cftime.DatetimeNoLeap(2025-05-15 12:00:00),\n",
       "       cftime.DatetimeNoLeap(2025-06-15 00:00:00),\n",
       "       cftime.DatetimeNoLeap(2025-07-15 12:00:00),\n",
       "       cftime.DatetimeNoLeap(2025-08-15 12:00:00),\n",
       "       cftime.DatetimeNoLeap(2025-09-15 00:00:00),\n",
       "       cftime.DatetimeNoLeap(2025-10-15 12:00:00),\n",
       "       cftime.DatetimeNoLeap(2025-11-15 00:00:00),\n",
       "       cftime.DatetimeNoLeap(2025-12-15 12:00:00),\n",
       "       cftime.DatetimeNoLeap(2026-01-15 12:00:00),\n",
       "       cftime.DatetimeNoLeap(2026-02-14 00:00:00),\n",
       "       cftime.DatetimeNoLeap(2026-03-15 12:00:00),\n",
       "       cftime.DatetimeNoLeap(2026-04-15 00:00:00),\n",
       "       cftime.DatetimeNoLeap(2026-05-15 12:00:00),\n",
       "       cftime.DatetimeNoLeap(2026-06-15 00:00:00),\n",
       "       cftime.DatetimeNoLeap(2026-07-15 12:00:00),\n",
       "       cftime.DatetimeNoLeap(2026-08-15 12:00:00),\n",
       "       cftime.DatetimeNoLeap(2026-09-15 00:00:00),\n",
       "       cftime.DatetimeNoLeap(2026-10-15 12:00:00),\n",
       "       cftime.DatetimeNoLeap(2026-11-15 00:00:00),\n",
       "       cftime.DatetimeNoLeap(2026-12-15 12:00:00),\n",
       "       cftime.DatetimeNoLeap(2027-01-15 12:00:00),\n",
       "       cftime.DatetimeNoLeap(2027-02-14 00:00:00),\n",
       "       cftime.DatetimeNoLeap(2027-03-15 12:00:00),\n",
       "       cftime.DatetimeNoLeap(2027-04-15 00:00:00),\n",
       "       cftime.DatetimeNoLeap(2027-05-15 12:00:00),\n",
       "       cftime.DatetimeNoLeap(2027-06-15 00:00:00),\n",
       "       cftime.DatetimeNoLeap(2027-07-15 12:00:00),\n",
       "       cftime.DatetimeNoLeap(2027-08-15 12:00:00),\n",
       "       cftime.DatetimeNoLeap(2027-09-15 00:00:00),\n",
       "       cftime.DatetimeNoLeap(2027-10-15 12:00:00),\n",
       "       cftime.DatetimeNoLeap(2027-11-15 00:00:00),\n",
       "       cftime.DatetimeNoLeap(2027-12-15 12:00:00),\n",
       "       cftime.DatetimeNoLeap(2028-01-15 12:00:00),\n",
       "       cftime.DatetimeNoLeap(2028-02-14 00:00:00),\n",
       "       cftime.DatetimeNoLeap(2028-03-15 12:00:00),\n",
       "       cftime.DatetimeNoLeap(2028-04-15 00:00:00),\n",
       "       cftime.DatetimeNoLeap(2028-05-15 12:00:00),\n",
       "       cftime.DatetimeNoLeap(2028-06-15 00:00:00),\n",
       "       cftime.DatetimeNoLeap(2028-07-15 12:00:00),\n",
       "       cftime.DatetimeNoLeap(2028-08-15 12:00:00),\n",
       "       cftime.DatetimeNoLeap(2028-09-15 00:00:00),\n",
       "       cftime.DatetimeNoLeap(2028-10-15 12:00:00),\n",
       "       cftime.DatetimeNoLeap(2028-11-15 00:00:00),\n",
       "       cftime.DatetimeNoLeap(2028-12-15 12:00:00),\n",
       "       cftime.DatetimeNoLeap(2029-01-15 12:00:00),\n",
       "       cftime.DatetimeNoLeap(2029-02-14 00:00:00),\n",
       "       cftime.DatetimeNoLeap(2029-03-15 12:00:00),\n",
       "       cftime.DatetimeNoLeap(2029-04-15 00:00:00),\n",
       "       cftime.DatetimeNoLeap(2029-05-15 12:00:00),\n",
       "       cftime.DatetimeNoLeap(2029-06-15 00:00:00),\n",
       "       cftime.DatetimeNoLeap(2029-07-15 12:00:00),\n",
       "       cftime.DatetimeNoLeap(2029-08-15 12:00:00),\n",
       "       cftime.DatetimeNoLeap(2029-09-15 00:00:00),\n",
       "       cftime.DatetimeNoLeap(2029-10-15 12:00:00),\n",
       "       cftime.DatetimeNoLeap(2029-11-15 00:00:00),\n",
       "       cftime.DatetimeNoLeap(2029-12-15 12:00:00),\n",
       "       cftime.DatetimeNoLeap(2030-01-15 12:00:00),\n",
       "       cftime.DatetimeNoLeap(2030-02-14 00:00:00),\n",
       "       cftime.DatetimeNoLeap(2030-03-15 12:00:00),\n",
       "       cftime.DatetimeNoLeap(2030-04-15 00:00:00),\n",
       "       cftime.DatetimeNoLeap(2030-05-15 12:00:00),\n",
       "       cftime.DatetimeNoLeap(2030-06-15 00:00:00),\n",
       "       cftime.DatetimeNoLeap(2030-07-15 12:00:00),\n",
       "       cftime.DatetimeNoLeap(2030-08-15 12:00:00),\n",
       "       cftime.DatetimeNoLeap(2030-09-15 00:00:00),\n",
       "       cftime.DatetimeNoLeap(2030-10-15 12:00:00),\n",
       "       cftime.DatetimeNoLeap(2030-11-15 00:00:00),\n",
       "       cftime.DatetimeNoLeap(2030-12-15 12:00:00),\n",
       "       cftime.DatetimeNoLeap(2031-01-15 12:00:00),\n",
       "       cftime.DatetimeNoLeap(2031-02-14 00:00:00),\n",
       "       cftime.DatetimeNoLeap(2031-03-15 12:00:00),\n",
       "       cftime.DatetimeNoLeap(2031-04-15 00:00:00),\n",
       "       cftime.DatetimeNoLeap(2031-05-15 12:00:00),\n",
       "       cftime.DatetimeNoLeap(2031-06-15 00:00:00),\n",
       "       cftime.DatetimeNoLeap(2031-07-15 12:00:00),\n",
       "       cftime.DatetimeNoLeap(2031-08-15 12:00:00),\n",
       "       cftime.DatetimeNoLeap(2031-09-15 00:00:00),\n",
       "       cftime.DatetimeNoLeap(2031-10-15 12:00:00),\n",
       "       cftime.DatetimeNoLeap(2031-11-15 00:00:00),\n",
       "       cftime.DatetimeNoLeap(2031-12-15 12:00:00),\n",
       "       cftime.DatetimeNoLeap(2032-01-15 12:00:00),\n",
       "       cftime.DatetimeNoLeap(2032-02-14 00:00:00),\n",
       "       cftime.DatetimeNoLeap(2032-03-15 12:00:00),\n",
       "       cftime.DatetimeNoLeap(2032-04-15 00:00:00),\n",
       "       cftime.DatetimeNoLeap(2032-05-15 12:00:00),\n",
       "       cftime.DatetimeNoLeap(2032-06-15 00:00:00),\n",
       "       cftime.DatetimeNoLeap(2032-07-15 12:00:00),\n",
       "       cftime.DatetimeNoLeap(2032-08-15 12:00:00),\n",
       "       cftime.DatetimeNoLeap(2032-09-15 00:00:00),\n",
       "       cftime.DatetimeNoLeap(2032-10-15 12:00:00),\n",
       "       cftime.DatetimeNoLeap(2032-11-15 00:00:00),\n",
       "       cftime.DatetimeNoLeap(2032-12-15 12:00:00),\n",
       "       cftime.DatetimeNoLeap(2033-01-15 12:00:00),\n",
       "       cftime.DatetimeNoLeap(2033-02-14 00:00:00),\n",
       "       cftime.DatetimeNoLeap(2033-03-15 12:00:00),\n",
       "       cftime.DatetimeNoLeap(2033-04-15 00:00:00),\n",
       "       cftime.DatetimeNoLeap(2033-05-15 12:00:00),\n",
       "       cftime.DatetimeNoLeap(2033-06-15 00:00:00),\n",
       "       cftime.DatetimeNoLeap(2033-07-15 12:00:00),\n",
       "       cftime.DatetimeNoLeap(2033-08-15 12:00:00),\n",
       "       cftime.DatetimeNoLeap(2033-09-15 00:00:00),\n",
       "       cftime.DatetimeNoLeap(2033-10-15 12:00:00),\n",
       "       cftime.DatetimeNoLeap(2033-11-15 00:00:00),\n",
       "       cftime.DatetimeNoLeap(2033-12-15 12:00:00),\n",
       "       cftime.DatetimeNoLeap(2034-01-15 12:00:00),\n",
       "       cftime.DatetimeNoLeap(2034-02-14 00:00:00),\n",
       "       cftime.DatetimeNoLeap(2034-03-15 12:00:00),\n",
       "       cftime.DatetimeNoLeap(2034-04-15 00:00:00),\n",
       "       cftime.DatetimeNoLeap(2034-05-15 12:00:00),\n",
       "       cftime.DatetimeNoLeap(2034-06-15 00:00:00),\n",
       "       cftime.DatetimeNoLeap(2034-07-15 12:00:00),\n",
       "       cftime.DatetimeNoLeap(2034-08-15 12:00:00),\n",
       "       cftime.DatetimeNoLeap(2034-09-15 00:00:00),\n",
       "       cftime.DatetimeNoLeap(2034-10-15 12:00:00),\n",
       "       cftime.DatetimeNoLeap(2034-11-15 00:00:00),\n",
       "       cftime.DatetimeNoLeap(2034-12-15 12:00:00),\n",
       "       cftime.DatetimeNoLeap(2035-01-15 12:00:00),\n",
       "       cftime.DatetimeNoLeap(2035-02-14 00:00:00),\n",
       "       cftime.DatetimeNoLeap(2035-03-15 12:00:00),\n",
       "       cftime.DatetimeNoLeap(2035-04-15 00:00:00),\n",
       "       cftime.DatetimeNoLeap(2035-05-15 12:00:00),\n",
       "       cftime.DatetimeNoLeap(2035-06-15 00:00:00),\n",
       "       cftime.DatetimeNoLeap(2035-07-15 12:00:00),\n",
       "       cftime.DatetimeNoLeap(2035-08-15 12:00:00),\n",
       "       cftime.DatetimeNoLeap(2035-09-15 00:00:00),\n",
       "       cftime.DatetimeNoLeap(2035-10-15 12:00:00),\n",
       "       cftime.DatetimeNoLeap(2035-11-15 00:00:00),\n",
       "       cftime.DatetimeNoLeap(2035-12-15 12:00:00),\n",
       "       cftime.DatetimeNoLeap(2036-01-15 12:00:00),\n",
       "       cftime.DatetimeNoLeap(2036-02-14 00:00:00),\n",
       "       cftime.DatetimeNoLeap(2036-03-15 12:00:00),\n",
       "       cftime.DatetimeNoLeap(2036-04-15 00:00:00),\n",
       "       cftime.DatetimeNoLeap(2036-05-15 12:00:00),\n",
       "       cftime.DatetimeNoLeap(2036-06-15 00:00:00),\n",
       "       cftime.DatetimeNoLeap(2036-07-15 12:00:00),\n",
       "       cftime.DatetimeNoLeap(2036-08-15 12:00:00),\n",
       "       cftime.DatetimeNoLeap(2036-09-15 00:00:00),\n",
       "       cftime.DatetimeNoLeap(2036-10-15 12:00:00),\n",
       "       cftime.DatetimeNoLeap(2036-11-15 00:00:00),\n",
       "       cftime.DatetimeNoLeap(2036-12-15 12:00:00),\n",
       "       cftime.DatetimeNoLeap(2037-01-15 12:00:00),\n",
       "       cftime.DatetimeNoLeap(2037-02-14 00:00:00),\n",
       "       cftime.DatetimeNoLeap(2037-03-15 12:00:00),\n",
       "       cftime.DatetimeNoLeap(2037-04-15 00:00:00),\n",
       "       cftime.DatetimeNoLeap(2037-05-15 12:00:00),\n",
       "       cftime.DatetimeNoLeap(2037-06-15 00:00:00),\n",
       "       cftime.DatetimeNoLeap(2037-07-15 12:00:00),\n",
       "       cftime.DatetimeNoLeap(2037-08-15 12:00:00),\n",
       "       cftime.DatetimeNoLeap(2037-09-15 00:00:00),\n",
       "       cftime.DatetimeNoLeap(2037-10-15 12:00:00),\n",
       "       cftime.DatetimeNoLeap(2037-11-15 00:00:00),\n",
       "       cftime.DatetimeNoLeap(2037-12-15 12:00:00),\n",
       "       cftime.DatetimeNoLeap(2038-01-15 12:00:00),\n",
       "       cftime.DatetimeNoLeap(2038-02-14 00:00:00),\n",
       "       cftime.DatetimeNoLeap(2038-03-15 12:00:00),\n",
       "       cftime.DatetimeNoLeap(2038-04-15 00:00:00),\n",
       "       cftime.DatetimeNoLeap(2038-05-15 12:00:00),\n",
       "       cftime.DatetimeNoLeap(2038-06-15 00:00:00),\n",
       "       cftime.DatetimeNoLeap(2038-07-15 12:00:00),\n",
       "       cftime.DatetimeNoLeap(2038-08-15 12:00:00),\n",
       "       cftime.DatetimeNoLeap(2038-09-15 00:00:00),\n",
       "       cftime.DatetimeNoLeap(2038-10-15 12:00:00),\n",
       "       cftime.DatetimeNoLeap(2038-11-15 00:00:00),\n",
       "       cftime.DatetimeNoLeap(2038-12-15 12:00:00),\n",
       "       cftime.DatetimeNoLeap(2039-01-15 12:00:00),\n",
       "       cftime.DatetimeNoLeap(2039-02-14 00:00:00),\n",
       "       cftime.DatetimeNoLeap(2039-03-15 12:00:00),\n",
       "       cftime.DatetimeNoLeap(2039-04-15 00:00:00),\n",
       "       cftime.DatetimeNoLeap(2039-05-15 12:00:00),\n",
       "       cftime.DatetimeNoLeap(2039-06-15 00:00:00),\n",
       "       cftime.DatetimeNoLeap(2039-07-15 12:00:00),\n",
       "       cftime.DatetimeNoLeap(2039-08-15 12:00:00),\n",
       "       cftime.DatetimeNoLeap(2039-09-15 00:00:00),\n",
       "       cftime.DatetimeNoLeap(2039-10-15 12:00:00),\n",
       "       cftime.DatetimeNoLeap(2039-11-15 00:00:00),\n",
       "       cftime.DatetimeNoLeap(2039-12-15 12:00:00),\n",
       "       cftime.DatetimeNoLeap(2040-01-15 12:00:00),\n",
       "       cftime.DatetimeNoLeap(2040-02-14 00:00:00),\n",
       "       cftime.DatetimeNoLeap(2040-03-15 12:00:00),\n",
       "       cftime.DatetimeNoLeap(2040-04-15 00:00:00),\n",
       "       cftime.DatetimeNoLeap(2040-05-15 12:00:00),\n",
       "       cftime.DatetimeNoLeap(2040-06-15 00:00:00),\n",
       "       cftime.DatetimeNoLeap(2040-07-15 12:00:00),\n",
       "       cftime.DatetimeNoLeap(2040-08-15 12:00:00),\n",
       "       cftime.DatetimeNoLeap(2040-09-15 00:00:00),\n",
       "       cftime.DatetimeNoLeap(2040-10-15 12:00:00),\n",
       "       cftime.DatetimeNoLeap(2040-11-15 00:00:00),\n",
       "       cftime.DatetimeNoLeap(2040-12-15 12:00:00),\n",
       "       cftime.DatetimeNoLeap(2041-01-15 12:00:00),\n",
       "       cftime.DatetimeNoLeap(2041-02-14 00:00:00),\n",
       "       cftime.DatetimeNoLeap(2041-03-15 12:00:00),\n",
       "       cftime.DatetimeNoLeap(2041-04-15 00:00:00),\n",
       "       cftime.DatetimeNoLeap(2041-05-15 12:00:00),\n",
       "       cftime.DatetimeNoLeap(2041-06-15 00:00:00),\n",
       "       cftime.DatetimeNoLeap(2041-07-15 12:00:00),\n",
       "       cftime.DatetimeNoLeap(2041-08-15 12:00:00),\n",
       "       cftime.DatetimeNoLeap(2041-09-15 00:00:00),\n",
       "       cftime.DatetimeNoLeap(2041-10-15 12:00:00),\n",
       "       cftime.DatetimeNoLeap(2041-11-15 00:00:00),\n",
       "       cftime.DatetimeNoLeap(2041-12-15 12:00:00),\n",
       "       cftime.DatetimeNoLeap(2042-01-15 12:00:00),\n",
       "       cftime.DatetimeNoLeap(2042-02-14 00:00:00),\n",
       "       cftime.DatetimeNoLeap(2042-03-15 12:00:00),\n",
       "       cftime.DatetimeNoLeap(2042-04-15 00:00:00),\n",
       "       cftime.DatetimeNoLeap(2042-05-15 12:00:00),\n",
       "       cftime.DatetimeNoLeap(2042-06-15 00:00:00),\n",
       "       cftime.DatetimeNoLeap(2042-07-15 12:00:00),\n",
       "       cftime.DatetimeNoLeap(2042-08-15 12:00:00),\n",
       "       cftime.DatetimeNoLeap(2042-09-15 00:00:00),\n",
       "       cftime.DatetimeNoLeap(2042-10-15 12:00:00),\n",
       "       cftime.DatetimeNoLeap(2042-11-15 00:00:00),\n",
       "       cftime.DatetimeNoLeap(2042-12-15 12:00:00),\n",
       "       cftime.DatetimeNoLeap(2043-01-15 12:00:00),\n",
       "       cftime.DatetimeNoLeap(2043-02-14 00:00:00),\n",
       "       cftime.DatetimeNoLeap(2043-03-15 12:00:00),\n",
       "       cftime.DatetimeNoLeap(2043-04-15 00:00:00),\n",
       "       cftime.DatetimeNoLeap(2043-05-15 12:00:00),\n",
       "       cftime.DatetimeNoLeap(2043-06-15 00:00:00),\n",
       "       cftime.DatetimeNoLeap(2043-07-15 12:00:00),\n",
       "       cftime.DatetimeNoLeap(2043-08-15 12:00:00),\n",
       "       cftime.DatetimeNoLeap(2043-09-15 00:00:00),\n",
       "       cftime.DatetimeNoLeap(2043-10-15 12:00:00),\n",
       "       cftime.DatetimeNoLeap(2043-11-15 00:00:00),\n",
       "       cftime.DatetimeNoLeap(2043-12-15 12:00:00),\n",
       "       cftime.DatetimeNoLeap(2044-01-15 12:00:00),\n",
       "       cftime.DatetimeNoLeap(2044-02-14 00:00:00),\n",
       "       cftime.DatetimeNoLeap(2044-03-15 12:00:00),\n",
       "       cftime.DatetimeNoLeap(2044-04-15 00:00:00),\n",
       "       cftime.DatetimeNoLeap(2044-05-15 12:00:00),\n",
       "       cftime.DatetimeNoLeap(2044-06-15 00:00:00),\n",
       "       cftime.DatetimeNoLeap(2044-07-15 12:00:00),\n",
       "       cftime.DatetimeNoLeap(2044-08-15 12:00:00),\n",
       "       cftime.DatetimeNoLeap(2044-09-15 00:00:00),\n",
       "       cftime.DatetimeNoLeap(2044-10-15 12:00:00),\n",
       "       cftime.DatetimeNoLeap(2044-11-15 00:00:00),\n",
       "       cftime.DatetimeNoLeap(2044-12-15 12:00:00),\n",
       "       cftime.DatetimeNoLeap(2045-01-15 12:00:00),\n",
       "       cftime.DatetimeNoLeap(2045-02-14 00:00:00),\n",
       "       cftime.DatetimeNoLeap(2045-03-15 12:00:00),\n",
       "       cftime.DatetimeNoLeap(2045-04-15 00:00:00),\n",
       "       cftime.DatetimeNoLeap(2045-05-15 12:00:00),\n",
       "       cftime.DatetimeNoLeap(2045-06-15 00:00:00),\n",
       "       cftime.DatetimeNoLeap(2045-07-15 12:00:00),\n",
       "       cftime.DatetimeNoLeap(2045-08-15 12:00:00),\n",
       "       cftime.DatetimeNoLeap(2045-09-15 00:00:00),\n",
       "       cftime.DatetimeNoLeap(2045-10-15 12:00:00),\n",
       "       cftime.DatetimeNoLeap(2045-11-15 00:00:00),\n",
       "       cftime.DatetimeNoLeap(2045-12-15 12:00:00),\n",
       "       cftime.DatetimeNoLeap(2046-01-15 12:00:00),\n",
       "       cftime.DatetimeNoLeap(2046-02-14 00:00:00),\n",
       "       cftime.DatetimeNoLeap(2046-03-15 12:00:00),\n",
       "       cftime.DatetimeNoLeap(2046-04-15 00:00:00),\n",
       "       cftime.DatetimeNoLeap(2046-05-15 12:00:00),\n",
       "       cftime.DatetimeNoLeap(2046-06-15 00:00:00),\n",
       "       cftime.DatetimeNoLeap(2046-07-15 12:00:00),\n",
       "       cftime.DatetimeNoLeap(2046-08-15 12:00:00),\n",
       "       cftime.DatetimeNoLeap(2046-09-15 00:00:00),\n",
       "       cftime.DatetimeNoLeap(2046-10-15 12:00:00),\n",
       "       cftime.DatetimeNoLeap(2046-11-15 00:00:00),\n",
       "       cftime.DatetimeNoLeap(2046-12-15 12:00:00),\n",
       "       cftime.DatetimeNoLeap(2047-01-15 12:00:00),\n",
       "       cftime.DatetimeNoLeap(2047-02-14 00:00:00),\n",
       "       cftime.DatetimeNoLeap(2047-03-15 12:00:00),\n",
       "       cftime.DatetimeNoLeap(2047-04-15 00:00:00),\n",
       "       cftime.DatetimeNoLeap(2047-05-15 12:00:00),\n",
       "       cftime.DatetimeNoLeap(2047-06-15 00:00:00),\n",
       "       cftime.DatetimeNoLeap(2047-07-15 12:00:00),\n",
       "       cftime.DatetimeNoLeap(2047-08-15 12:00:00),\n",
       "       cftime.DatetimeNoLeap(2047-09-15 00:00:00),\n",
       "       cftime.DatetimeNoLeap(2047-10-15 12:00:00),\n",
       "       cftime.DatetimeNoLeap(2047-11-15 00:00:00),\n",
       "       cftime.DatetimeNoLeap(2047-12-15 12:00:00),\n",
       "       cftime.DatetimeNoLeap(2048-01-15 12:00:00),\n",
       "       cftime.DatetimeNoLeap(2048-02-14 00:00:00),\n",
       "       cftime.DatetimeNoLeap(2048-03-15 12:00:00),\n",
       "       cftime.DatetimeNoLeap(2048-04-15 00:00:00),\n",
       "       cftime.DatetimeNoLeap(2048-05-15 12:00:00),\n",
       "       cftime.DatetimeNoLeap(2048-06-15 00:00:00),\n",
       "       cftime.DatetimeNoLeap(2048-07-15 12:00:00),\n",
       "       cftime.DatetimeNoLeap(2048-08-15 12:00:00),\n",
       "       cftime.DatetimeNoLeap(2048-09-15 00:00:00),\n",
       "       cftime.DatetimeNoLeap(2048-10-15 12:00:00),\n",
       "       cftime.DatetimeNoLeap(2048-11-15 00:00:00),\n",
       "       cftime.DatetimeNoLeap(2048-12-15 12:00:00),\n",
       "       cftime.DatetimeNoLeap(2049-01-15 12:00:00),\n",
       "       cftime.DatetimeNoLeap(2049-02-14 00:00:00),\n",
       "       cftime.DatetimeNoLeap(2049-03-15 12:00:00),\n",
       "       cftime.DatetimeNoLeap(2049-04-15 00:00:00),\n",
       "       cftime.DatetimeNoLeap(2049-05-15 12:00:00),\n",
       "       cftime.DatetimeNoLeap(2049-06-15 00:00:00),\n",
       "       cftime.DatetimeNoLeap(2049-07-15 12:00:00),\n",
       "       cftime.DatetimeNoLeap(2049-08-15 12:00:00),\n",
       "       cftime.DatetimeNoLeap(2049-09-15 00:00:00),\n",
       "       cftime.DatetimeNoLeap(2049-10-15 12:00:00),\n",
       "       cftime.DatetimeNoLeap(2049-11-15 00:00:00),\n",
       "       cftime.DatetimeNoLeap(2049-12-15 12:00:00),\n",
       "       cftime.DatetimeNoLeap(2050-01-15 12:00:00),\n",
       "       cftime.DatetimeNoLeap(2050-02-14 00:00:00),\n",
       "       cftime.DatetimeNoLeap(2050-03-15 12:00:00),\n",
       "       cftime.DatetimeNoLeap(2050-04-15 00:00:00),\n",
       "       cftime.DatetimeNoLeap(2050-05-15 12:00:00),\n",
       "       cftime.DatetimeNoLeap(2050-06-15 00:00:00),\n",
       "       cftime.DatetimeNoLeap(2050-07-15 12:00:00),\n",
       "       cftime.DatetimeNoLeap(2050-08-15 12:00:00),\n",
       "       cftime.DatetimeNoLeap(2050-09-15 00:00:00),\n",
       "       cftime.DatetimeNoLeap(2050-10-15 12:00:00),\n",
       "       cftime.DatetimeNoLeap(2050-11-15 00:00:00),\n",
       "       cftime.DatetimeNoLeap(2050-12-15 12:00:00),\n",
       "       cftime.DatetimeNoLeap(2051-01-15 12:00:00),\n",
       "       cftime.DatetimeNoLeap(2051-02-14 00:00:00),\n",
       "       cftime.DatetimeNoLeap(2051-03-15 12:00:00),\n",
       "       cftime.DatetimeNoLeap(2051-04-15 00:00:00),\n",
       "       cftime.DatetimeNoLeap(2051-05-15 12:00:00),\n",
       "       cftime.DatetimeNoLeap(2051-06-15 00:00:00),\n",
       "       cftime.DatetimeNoLeap(2051-07-15 12:00:00),\n",
       "       cftime.DatetimeNoLeap(2051-08-15 12:00:00),\n",
       "       cftime.DatetimeNoLeap(2051-09-15 00:00:00),\n",
       "       cftime.DatetimeNoLeap(2051-10-15 12:00:00),\n",
       "       cftime.DatetimeNoLeap(2051-11-15 00:00:00),\n",
       "       cftime.DatetimeNoLeap(2051-12-15 12:00:00),\n",
       "       cftime.DatetimeNoLeap(2052-01-15 12:00:00),\n",
       "       cftime.DatetimeNoLeap(2052-02-14 00:00:00),\n",
       "       cftime.DatetimeNoLeap(2052-03-15 12:00:00),\n",
       "       cftime.DatetimeNoLeap(2052-04-15 00:00:00),\n",
       "       cftime.DatetimeNoLeap(2052-05-15 12:00:00),\n",
       "       cftime.DatetimeNoLeap(2052-06-15 00:00:00),\n",
       "       cftime.DatetimeNoLeap(2052-07-15 12:00:00),\n",
       "       cftime.DatetimeNoLeap(2052-08-15 12:00:00),\n",
       "       cftime.DatetimeNoLeap(2052-09-15 00:00:00),\n",
       "       cftime.DatetimeNoLeap(2052-10-15 12:00:00),\n",
       "       cftime.DatetimeNoLeap(2052-11-15 00:00:00),\n",
       "       cftime.DatetimeNoLeap(2052-12-15 12:00:00),\n",
       "       cftime.DatetimeNoLeap(2053-01-15 12:00:00),\n",
       "       cftime.DatetimeNoLeap(2053-02-14 00:00:00),\n",
       "       cftime.DatetimeNoLeap(2053-03-15 12:00:00),\n",
       "       cftime.DatetimeNoLeap(2053-04-15 00:00:00),\n",
       "       cftime.DatetimeNoLeap(2053-05-15 12:00:00),\n",
       "       cftime.DatetimeNoLeap(2053-06-15 00:00:00),\n",
       "       cftime.DatetimeNoLeap(2053-07-15 12:00:00),\n",
       "       cftime.DatetimeNoLeap(2053-08-15 12:00:00),\n",
       "       cftime.DatetimeNoLeap(2053-09-15 00:00:00),\n",
       "       cftime.DatetimeNoLeap(2053-10-15 12:00:00),\n",
       "       cftime.DatetimeNoLeap(2053-11-15 00:00:00),\n",
       "       cftime.DatetimeNoLeap(2053-12-15 12:00:00),\n",
       "       cftime.DatetimeNoLeap(2054-01-15 12:00:00),\n",
       "       cftime.DatetimeNoLeap(2054-02-14 00:00:00),\n",
       "       cftime.DatetimeNoLeap(2054-03-15 12:00:00),\n",
       "       cftime.DatetimeNoLeap(2054-04-15 00:00:00),\n",
       "       cftime.DatetimeNoLeap(2054-05-15 12:00:00),\n",
       "       cftime.DatetimeNoLeap(2054-06-15 00:00:00),\n",
       "       cftime.DatetimeNoLeap(2054-07-15 12:00:00),\n",
       "       cftime.DatetimeNoLeap(2054-08-15 12:00:00),\n",
       "       cftime.DatetimeNoLeap(2054-09-15 00:00:00),\n",
       "       cftime.DatetimeNoLeap(2054-10-15 12:00:00),\n",
       "       cftime.DatetimeNoLeap(2054-11-15 00:00:00),\n",
       "       cftime.DatetimeNoLeap(2054-12-15 12:00:00),\n",
       "       cftime.DatetimeNoLeap(2055-01-15 12:00:00),\n",
       "       cftime.DatetimeNoLeap(2055-02-14 00:00:00),\n",
       "       cftime.DatetimeNoLeap(2055-03-15 12:00:00),\n",
       "       cftime.DatetimeNoLeap(2055-04-15 00:00:00),\n",
       "       cftime.DatetimeNoLeap(2055-05-15 12:00:00),\n",
       "       cftime.DatetimeNoLeap(2055-06-15 00:00:00),\n",
       "       cftime.DatetimeNoLeap(2055-07-15 12:00:00),\n",
       "       cftime.DatetimeNoLeap(2055-08-15 12:00:00),\n",
       "       cftime.DatetimeNoLeap(2055-09-15 00:00:00),\n",
       "       cftime.DatetimeNoLeap(2055-10-15 12:00:00),\n",
       "       cftime.DatetimeNoLeap(2055-11-15 00:00:00),\n",
       "       cftime.DatetimeNoLeap(2055-12-15 12:00:00),\n",
       "       cftime.DatetimeNoLeap(2056-01-15 12:00:00),\n",
       "       cftime.DatetimeNoLeap(2056-02-14 00:00:00),\n",
       "       cftime.DatetimeNoLeap(2056-03-15 12:00:00),\n",
       "       cftime.DatetimeNoLeap(2056-04-15 00:00:00),\n",
       "       cftime.DatetimeNoLeap(2056-05-15 12:00:00),\n",
       "       cftime.DatetimeNoLeap(2056-06-15 00:00:00),\n",
       "       cftime.DatetimeNoLeap(2056-07-15 12:00:00),\n",
       "       cftime.DatetimeNoLeap(2056-08-15 12:00:00),\n",
       "       cftime.DatetimeNoLeap(2056-09-15 00:00:00),\n",
       "       cftime.DatetimeNoLeap(2056-10-15 12:00:00),\n",
       "       cftime.DatetimeNoLeap(2056-11-15 00:00:00),\n",
       "       cftime.DatetimeNoLeap(2056-12-15 12:00:00),\n",
       "       cftime.DatetimeNoLeap(2057-01-15 12:00:00),\n",
       "       cftime.DatetimeNoLeap(2057-02-14 00:00:00),\n",
       "       cftime.DatetimeNoLeap(2057-03-15 12:00:00),\n",
       "       cftime.DatetimeNoLeap(2057-04-15 00:00:00),\n",
       "       cftime.DatetimeNoLeap(2057-05-15 12:00:00),\n",
       "       cftime.DatetimeNoLeap(2057-06-15 00:00:00),\n",
       "       cftime.DatetimeNoLeap(2057-07-15 12:00:00),\n",
       "       cftime.DatetimeNoLeap(2057-08-15 12:00:00),\n",
       "       cftime.DatetimeNoLeap(2057-09-15 00:00:00),\n",
       "       cftime.DatetimeNoLeap(2057-10-15 12:00:00),\n",
       "       cftime.DatetimeNoLeap(2057-11-15 00:00:00),\n",
       "       cftime.DatetimeNoLeap(2057-12-15 12:00:00),\n",
       "       cftime.DatetimeNoLeap(2058-01-15 12:00:00),\n",
       "       cftime.DatetimeNoLeap(2058-02-14 00:00:00),\n",
       "       cftime.DatetimeNoLeap(2058-03-15 12:00:00),\n",
       "       cftime.DatetimeNoLeap(2058-04-15 00:00:00),\n",
       "       cftime.DatetimeNoLeap(2058-05-15 12:00:00),\n",
       "       cftime.DatetimeNoLeap(2058-06-15 00:00:00),\n",
       "       cftime.DatetimeNoLeap(2058-07-15 12:00:00),\n",
       "       cftime.DatetimeNoLeap(2058-08-15 12:00:00),\n",
       "       cftime.DatetimeNoLeap(2058-09-15 00:00:00),\n",
       "       cftime.DatetimeNoLeap(2058-10-15 12:00:00),\n",
       "       cftime.DatetimeNoLeap(2058-11-15 00:00:00),\n",
       "       cftime.DatetimeNoLeap(2058-12-15 12:00:00),\n",
       "       cftime.DatetimeNoLeap(2059-01-15 12:00:00),\n",
       "       cftime.DatetimeNoLeap(2059-02-14 00:00:00),\n",
       "       cftime.DatetimeNoLeap(2059-03-15 12:00:00),\n",
       "       cftime.DatetimeNoLeap(2059-04-15 00:00:00),\n",
       "       cftime.DatetimeNoLeap(2059-05-15 12:00:00),\n",
       "       cftime.DatetimeNoLeap(2059-06-15 00:00:00),\n",
       "       cftime.DatetimeNoLeap(2059-07-15 12:00:00),\n",
       "       cftime.DatetimeNoLeap(2059-08-15 12:00:00),\n",
       "       cftime.DatetimeNoLeap(2059-09-15 00:00:00),\n",
       "       cftime.DatetimeNoLeap(2059-10-15 12:00:00),\n",
       "       cftime.DatetimeNoLeap(2059-11-15 00:00:00),\n",
       "       cftime.DatetimeNoLeap(2059-12-15 12:00:00),\n",
       "       cftime.DatetimeNoLeap(2060-01-15 12:00:00),\n",
       "       cftime.DatetimeNoLeap(2060-02-14 00:00:00),\n",
       "       cftime.DatetimeNoLeap(2060-03-15 12:00:00),\n",
       "       cftime.DatetimeNoLeap(2060-04-15 00:00:00),\n",
       "       cftime.DatetimeNoLeap(2060-05-15 12:00:00),\n",
       "       cftime.DatetimeNoLeap(2060-06-15 00:00:00),\n",
       "       cftime.DatetimeNoLeap(2060-07-15 12:00:00),\n",
       "       cftime.DatetimeNoLeap(2060-08-15 12:00:00),\n",
       "       cftime.DatetimeNoLeap(2060-09-15 00:00:00),\n",
       "       cftime.DatetimeNoLeap(2060-10-15 12:00:00),\n",
       "       cftime.DatetimeNoLeap(2060-11-15 00:00:00),\n",
       "       cftime.DatetimeNoLeap(2060-12-15 12:00:00),\n",
       "       cftime.DatetimeNoLeap(2061-01-15 12:00:00),\n",
       "       cftime.DatetimeNoLeap(2061-02-14 00:00:00),\n",
       "       cftime.DatetimeNoLeap(2061-03-15 12:00:00),\n",
       "       cftime.DatetimeNoLeap(2061-04-15 00:00:00),\n",
       "       cftime.DatetimeNoLeap(2061-05-15 12:00:00),\n",
       "       cftime.DatetimeNoLeap(2061-06-15 00:00:00),\n",
       "       cftime.DatetimeNoLeap(2061-07-15 12:00:00),\n",
       "       cftime.DatetimeNoLeap(2061-08-15 12:00:00),\n",
       "       cftime.DatetimeNoLeap(2061-09-15 00:00:00),\n",
       "       cftime.DatetimeNoLeap(2061-10-15 12:00:00),\n",
       "       cftime.DatetimeNoLeap(2061-11-15 00:00:00),\n",
       "       cftime.DatetimeNoLeap(2061-12-15 12:00:00),\n",
       "       cftime.DatetimeNoLeap(2062-01-15 12:00:00),\n",
       "       cftime.DatetimeNoLeap(2062-02-14 00:00:00),\n",
       "       cftime.DatetimeNoLeap(2062-03-15 12:00:00),\n",
       "       cftime.DatetimeNoLeap(2062-04-15 00:00:00),\n",
       "       cftime.DatetimeNoLeap(2062-05-15 12:00:00),\n",
       "       cftime.DatetimeNoLeap(2062-06-15 00:00:00),\n",
       "       cftime.DatetimeNoLeap(2062-07-15 12:00:00),\n",
       "       cftime.DatetimeNoLeap(2062-08-15 12:00:00),\n",
       "       cftime.DatetimeNoLeap(2062-09-15 00:00:00),\n",
       "       cftime.DatetimeNoLeap(2062-10-15 12:00:00),\n",
       "       cftime.DatetimeNoLeap(2062-11-15 00:00:00),\n",
       "       cftime.DatetimeNoLeap(2062-12-15 12:00:00),\n",
       "       cftime.DatetimeNoLeap(2063-01-15 12:00:00),\n",
       "       cftime.DatetimeNoLeap(2063-02-14 00:00:00),\n",
       "       cftime.DatetimeNoLeap(2063-03-15 12:00:00),\n",
       "       cftime.DatetimeNoLeap(2063-04-15 00:00:00),\n",
       "       cftime.DatetimeNoLeap(2063-05-15 12:00:00),\n",
       "       cftime.DatetimeNoLeap(2063-06-15 00:00:00),\n",
       "       cftime.DatetimeNoLeap(2063-07-15 12:00:00),\n",
       "       cftime.DatetimeNoLeap(2063-08-15 12:00:00),\n",
       "       cftime.DatetimeNoLeap(2063-09-15 00:00:00),\n",
       "       cftime.DatetimeNoLeap(2063-10-15 12:00:00),\n",
       "       cftime.DatetimeNoLeap(2063-11-15 00:00:00),\n",
       "       cftime.DatetimeNoLeap(2063-12-15 12:00:00),\n",
       "       cftime.DatetimeNoLeap(2064-01-15 12:00:00),\n",
       "       cftime.DatetimeNoLeap(2064-02-14 00:00:00),\n",
       "       cftime.DatetimeNoLeap(2064-03-15 12:00:00),\n",
       "       cftime.DatetimeNoLeap(2064-04-15 00:00:00),\n",
       "       cftime.DatetimeNoLeap(2064-05-15 12:00:00),\n",
       "       cftime.DatetimeNoLeap(2064-06-15 00:00:00),\n",
       "       cftime.DatetimeNoLeap(2064-07-15 12:00:00),\n",
       "       cftime.DatetimeNoLeap(2064-08-15 12:00:00),\n",
       "       cftime.DatetimeNoLeap(2064-09-15 00:00:00),\n",
       "       cftime.DatetimeNoLeap(2064-10-15 12:00:00),\n",
       "       cftime.DatetimeNoLeap(2064-11-15 00:00:00),\n",
       "       cftime.DatetimeNoLeap(2064-12-15 12:00:00)], dtype=object)"
      ]
     },
     "execution_count": 77,
     "metadata": {},
     "output_type": "execute_result"
    }
   ],
   "source": [
    "ds.time.values"
   ]
  },
  {
   "cell_type": "code",
   "execution_count": 24,
   "metadata": {},
   "outputs": [],
   "source": [
    "da = das[0].isel(lev=-1)\n",
    "lev = da.lev.values*-100\n",
    "lon = da.lon.values\n",
    "lat = da.lat.values\n",
    "values = full(da.shape, lev)\n",
    "da = DataArray(name='p2', data=values, coords=[lat, lon], dims=['lat', 'lon'])\n",
    "file_name = 'p2_' + file_time + '.nc'\n",
    "da.to_netcdf(im_path+file_name)"
   ]
  },
  {
   "cell_type": "markdown",
   "metadata": {},
   "source": [
    "**Sea Surface Temperature**"
   ]
  },
  {
   "cell_type": "code",
   "execution_count": 25,
   "metadata": {
    "scrolled": true
   },
   "outputs": [
    {
     "name": "stderr",
     "output_type": "stream",
     "text": [
      "/home/zhangc/miniconda3/envs/python3/lib/python3.7/site-packages/xarray/conventions.py:494: SerializationWarning: variable 'tos' has multiple fill values {1e+20, 1e+20}, decoding all values to NaN.\n",
      "  use_cftime=use_cftime,\n"
     ]
    }
   ],
   "source": [
    "ds = open_dataset(nc_day[0])\n",
    "da = ds.tos.sel(time=tday)\n",
    "x = da.lon.values.flatten()\n",
    "y = da.lat.values.flatten()\n",
    "xy = stack((x, y), axis=-1)\n",
    "v = da.values.flatten()"
   ]
  },
  {
   "cell_type": "code",
   "execution_count": 26,
   "metadata": {},
   "outputs": [],
   "source": [
    "ds = open_dataset(nc_lev[0])\n",
    "lon1d = ds.lon.values\n",
    "lat1d = ds.lat.values\n",
    "nx = len(lon1d)\n",
    "ny = len(lat1d)\n",
    "lon2d = repeat(lon1d, ny).reshape(nx, ny).transpose()\n",
    "lat2d = repeat(lat1d, nx).reshape(ny, nx)"
   ]
  },
  {
   "cell_type": "code",
   "execution_count": 27,
   "metadata": {},
   "outputs": [],
   "source": [
    "vi = griddata(xy, v, (lon2d, lat2d), method='linear')\n",
    "da = DataArray(data=vi, coords=[lat1d, lon1d], dims=['lat', 'lon'])\n",
    "file_name = 'sst_' + file_time + '.nc'\n",
    "da.to_netcdf(im_path+file_name)"
   ]
  },
  {
   "cell_type": "markdown",
   "metadata": {},
   "source": [
    "**Sea Ice Concentration**"
   ]
  },
  {
   "cell_type": "code",
   "execution_count": 28,
   "metadata": {},
   "outputs": [
    {
     "name": "stderr",
     "output_type": "stream",
     "text": [
      "/home/zhangc/miniconda3/envs/python3/lib/python3.7/site-packages/xarray/conventions.py:494: SerializationWarning: variable 'siconc' has multiple fill values {1e+20, 1e+20}, decoding all values to NaN.\n",
      "  use_cftime=use_cftime,\n"
     ]
    }
   ],
   "source": [
    "ds = open_dataset(nc_day[1])\n",
    "da = ds.siconc.sel(time=tday)\n",
    "v = da.values.flatten()"
   ]
  },
  {
   "cell_type": "code",
   "execution_count": 29,
   "metadata": {},
   "outputs": [],
   "source": [
    "vi = griddata(xy, v, (lon2d, lat2d), method='linear')\n",
    "da = DataArray(data=vi, coords=[lat1d, lon1d], dims=['lat', 'lon'])\n",
    "file_name = 'sic_' + file_time + '.nc'\n",
    "da.to_netcdf(im_path+file_name)"
   ]
  },
  {
   "cell_type": "markdown",
   "metadata": {},
   "source": [
    "**Soil Moisture**"
   ]
  },
  {
   "cell_type": "code",
   "execution_count": 30,
   "metadata": {},
   "outputs": [],
   "source": [
    "ds = open_dataset(nc_era[0]).sel(time=tera)"
   ]
  },
  {
   "cell_type": "code",
   "execution_count": 31,
   "metadata": {},
   "outputs": [],
   "source": [
    "vis = ['swvl1', 'swvl2', 'swvl3', 'swvl4']"
   ]
  },
  {
   "cell_type": "code",
   "execution_count": 32,
   "metadata": {},
   "outputs": [],
   "source": [
    "for vi in vis:\n",
    "    da = ds[vi].interp(longitude=lon1d, latitude=lat1d)\n",
    "    file_name = vi + '_' + file_time + '.nc'\n",
    "    da.to_netcdf(im_path+file_name)"
   ]
  },
  {
   "cell_type": "markdown",
   "metadata": {},
   "source": [
    "**Soil Temperature**"
   ]
  },
  {
   "cell_type": "code",
   "execution_count": 33,
   "metadata": {},
   "outputs": [],
   "source": [
    "vis = ['stl1', 'stl2', 'stl3', 'stl4']"
   ]
  },
  {
   "cell_type": "code",
   "execution_count": 34,
   "metadata": {},
   "outputs": [],
   "source": [
    "for vi in vis:\n",
    "    da = ds[vi].interp(longitude=lon1d, latitude=lat1d)\n",
    "    file_name = vi + '_' + file_time + '.nc'\n",
    "    da.to_netcdf(im_path+file_name)"
   ]
  },
  {
   "cell_type": "code",
   "execution_count": 35,
   "metadata": {},
   "outputs": [],
   "source": [
    "#chdir(os_path)"
   ]
  },
  {
   "cell_type": "code",
   "execution_count": 36,
   "metadata": {},
   "outputs": [],
   "source": [
    "#command = 'ncl convert_nc_to_im.ncl ' + \"'file_time=\" + '\"' + file_time + '\"' + \"'\""
   ]
  },
  {
   "cell_type": "code",
   "execution_count": 37,
   "metadata": {},
   "outputs": [],
   "source": [
    "#system(command)"
   ]
  }
 ],
 "metadata": {
  "kernelspec": {
   "display_name": "Python 3",
   "language": "python",
   "name": "python3"
  },
  "language_info": {
   "codemirror_mode": {
    "name": "ipython",
    "version": 3
   },
   "file_extension": ".py",
   "mimetype": "text/x-python",
   "name": "python",
   "nbconvert_exporter": "python",
   "pygments_lexer": "ipython3",
   "version": "3.7.6"
  }
 },
 "nbformat": 4,
 "nbformat_minor": 4
}
